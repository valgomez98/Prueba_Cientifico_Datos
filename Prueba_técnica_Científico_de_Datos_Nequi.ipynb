{
 "cells": [
  {
   "cell_type": "markdown",
   "metadata": {},
   "source": [
    "# PRUEBA TÉCNICA CIENTÍFICO DE DATOS NEQUI"
   ]
  },
  {
   "cell_type": "markdown",
   "metadata": {},
   "source": [
    "#### Elaborado por:\n",
    "Valentina Gómez Garzón"
   ]
  },
  {
   "cell_type": "markdown",
   "metadata": {},
   "source": [
    "## Objetivo"
   ]
  },
  {
   "cell_type": "markdown",
   "metadata": {},
   "source": [
    "Idear una solución para identificar transacciones que evidencian un comportamiento de Mala Practica Transaccional, empleando un producto de datos.\n",
    "Una Mala Practica Transaccional es un comportamiento donde se evidencia un uso de los canales mal intencionado, para la prueba técnica nos centraremos en la práctica de Fraccionamiento Transaccional, esta mala práctica consiste en fraccionar una transacción en un número mayor de transacciones con menor monto que agrupadas suman el valor de la transacción original.\n",
    "\n",
    "#### Características: \n",
    "Estas transacciones se caracterizan por estar en una misma ventana de tiempo que suele ser 24 horas y tienen como origen o destino la misma cuenta o cliente."
   ]
  },
  {
   "cell_type": "markdown",
   "metadata": {},
   "source": [
    "## Metodología"
   ]
  },
  {
   "cell_type": "markdown",
   "metadata": {},
   "source": [
    "Por problemas de capacidad de memoria se escoge solo un dataset para el análisis y entrenamiento de modelos.\n",
    "#####  Lenguaje de programación: Python.\n",
    "\n",
    "Se usó Jupyter Notebook  que es una aplicación web que sirve a modo de puente constante entre el código y los textos explicativos. El programa se ejecuta desde la aplicación web cliente que funciona en cualquier navegador estándar. "
   ]
  },
  {
   "cell_type": "markdown",
   "metadata": {},
   "source": [
    "## INDICE"
   ]
  },
  {
   "cell_type": "markdown",
   "metadata": {},
   "source": [
    "1. Librerías.\n",
    "2. Lectura de los datos.\n",
    "3. Variables.\n",
    "4. Análisis descriptivo variables iniciales.\n",
    "5. Agrupamiento y creación de variables.\n",
    "6. Análisis Variable respuesta: Posible Fraude.\n",
    "7. Transformación de datos.\n",
    "8. Modelos.\n",
    "            8.1 Random Forest\n",
    "            8.2 Random Forest con class_weight='balanced_subsample\n",
    "            8.3 Regresión logística con seleccion de variables\n",
    "            8.4 Regresión logística con Class weighting (solucionaria el desbalanceo)\n",
    "            8.5 Xgboost\n",
    "            8.6 Xgboost con hiperparámetros\n",
    "            8.7 Decision Tree\n",
    "            8.8 Gradient Bosting\n",
    "            8.9 Ada Boost\n",
    "9. Análisis de errores.\n",
    "10. Selección de mejor modelo.\n",
    "11. Arquitectura del proceso.\n",
    "12. Trabajos futuros."
   ]
  },
  {
   "cell_type": "markdown",
   "metadata": {},
   "source": [
    "## 1. Librerías"
   ]
  },
  {
   "cell_type": "code",
   "execution_count": 1,
   "metadata": {},
   "outputs": [],
   "source": [
    "import pandas as pd\n",
    "import datetime\n",
    "import numpy as np  \n",
    "import datetime as dt\n",
    "\n",
    "# Gráficos\n",
    "# ==============================================================================\n",
    "import matplotlib.pyplot as plt\n",
    "%matplotlib inline\n",
    "import plotly.graph_objects as go\n",
    "from plotly.subplots import make_subplots\n",
    "import plotly.express as px\n",
    "import seaborn as sns\n",
    "from statsmodels.graphics.tsaplots import plot_acf\n",
    "from statsmodels.graphics.tsaplots import plot_pacf\n",
    "plt.style.use('ggplot')\n",
    "\n",
    "# Modelamiento\n",
    "# ==============================================================================\n",
    "from sklearn.pipeline import Pipeline\n",
    "import multiprocessing\n",
    "from sklearn.model_selection import train_test_split, cross_val_score, KFold, GridSearchCV, StratifiedKFold\n",
    "from sklearn import preprocessing\n",
    "from sklearn.preprocessing import StandardScaler, OneHotEncoder\n",
    "from sklearn.compose import ColumnTransformer, make_column_selector \n",
    "from sklearn.linear_model import LogisticRegression, LogisticRegressionCV\n",
    "from sklearn.metrics import roc_curve, auc, accuracy_score, plot_confusion_matrix, classification_report, f1_score\n",
    "from xgboost import XGBClassifier\n",
    "from sklearn.tree import DecisionTreeClassifier\n",
    "from sklearn.ensemble import AdaBoostClassifier, GradientBoostingClassifier, RandomForestClassifier\n",
    "from sklearn.feature_selection import RFE, SelectKBest, f_classif,RFECV\n",
    "from imblearn.over_sampling import RandomOverSampler\n",
    "from imblearn.over_sampling import SMOTENC\n",
    "\n",
    "\n",
    "#formato números con dos decimales\n",
    "pd.options.display.float_format = '{:.4f}'.format"
   ]
  },
  {
   "cell_type": "markdown",
   "metadata": {},
   "source": [
    "## 2. Leer los datos"
   ]
  },
  {
   "cell_type": "code",
   "execution_count": 2,
   "metadata": {},
   "outputs": [],
   "source": [
    "df1=pd.read_parquet('sample_data_0000_part_00.parquet')\n",
    "df2=pd.read_parquet('sample_data_0001_part_00.parquet')\n",
    "df3=pd.read_parquet('sample_data_0002_part_00.parquet')\n",
    "df4=pd.read_parquet('sample_data_0003_part_00.parquet')\n",
    "df5=pd.read_parquet('sample_data_0004_part_00.parquet')\n",
    "df6=pd.read_parquet('sample_data_0005_part_00.parquet')\n",
    "df7=pd.read_parquet('sample_data_0006_part_00.parquet')"
   ]
  },
  {
   "cell_type": "code",
   "execution_count": 3,
   "metadata": {},
   "outputs": [],
   "source": [
    "base=pd.concat([df1,df2,df3,df4,df5,df6,df7])\n",
    "#base=pd.concat([df1,df2,df3])"
   ]
  },
  {
   "cell_type": "code",
   "execution_count": 4,
   "metadata": {},
   "outputs": [],
   "source": [
    "#base=df1.copy()"
   ]
  },
  {
   "cell_type": "code",
   "execution_count": 5,
   "metadata": {},
   "outputs": [],
   "source": [
    "base=base.reset_index()\n",
    "base.drop(['index'],axis=1,inplace=True)"
   ]
  },
  {
   "cell_type": "code",
   "execution_count": 6,
   "metadata": {},
   "outputs": [
    {
     "data": {
      "text/html": [
       "<div>\n",
       "<style scoped>\n",
       "    .dataframe tbody tr th:only-of-type {\n",
       "        vertical-align: middle;\n",
       "    }\n",
       "\n",
       "    .dataframe tbody tr th {\n",
       "        vertical-align: top;\n",
       "    }\n",
       "\n",
       "    .dataframe thead th {\n",
       "        text-align: right;\n",
       "    }\n",
       "</style>\n",
       "<table border=\"1\" class=\"dataframe\">\n",
       "  <thead>\n",
       "    <tr style=\"text-align: right;\">\n",
       "      <th></th>\n",
       "      <th>merchant_id</th>\n",
       "      <th>_id</th>\n",
       "      <th>subsidiary</th>\n",
       "      <th>transaction_date</th>\n",
       "      <th>account_number</th>\n",
       "      <th>user_id</th>\n",
       "      <th>transaction_amount</th>\n",
       "      <th>transaction_type</th>\n",
       "    </tr>\n",
       "  </thead>\n",
       "  <tbody>\n",
       "    <tr>\n",
       "      <th>0</th>\n",
       "      <td>075d178871d8d48502bf1f54887e52fe</td>\n",
       "      <td>3aeb98f02b9fbf01cc14f1679b09d5e0</td>\n",
       "      <td>fb502e2ca32fb79609ca7514d41c02cd</td>\n",
       "      <td>2021-09-12 18:07:10</td>\n",
       "      <td>cc18c62a51b048ebf7e11ef8994c1ff3</td>\n",
       "      <td>d796d6838f4874508d5a7d1fd6fef607</td>\n",
       "      <td>59.44455012</td>\n",
       "      <td>CREDITO</td>\n",
       "    </tr>\n",
       "    <tr>\n",
       "      <th>1</th>\n",
       "      <td>075d178871d8d48502bf1f54887e52fe</td>\n",
       "      <td>dce1a8ee2b93dcf25a3ab04a7704004a</td>\n",
       "      <td>9dbcf12729217f1027caf6b1e7eb5728</td>\n",
       "      <td>2021-09-12 18:06:56</td>\n",
       "      <td>d8e0d4c8125577f5a3633dd6af140eaa</td>\n",
       "      <td>eb4464242fe2bb9b7fbf6d3d38474c1e</td>\n",
       "      <td>23.77782004</td>\n",
       "      <td>CREDITO</td>\n",
       "    </tr>\n",
       "    <tr>\n",
       "      <th>2</th>\n",
       "      <td>075d178871d8d48502bf1f54887e52fe</td>\n",
       "      <td>d4a6a637e49e790d5810a4abc5352c53</td>\n",
       "      <td>e3936fe59f0f400afa47802c0f4c2ba2</td>\n",
       "      <td>2021-09-12 18:06:37</td>\n",
       "      <td>d0d42a4eeb347c6492ef981985a47732</td>\n",
       "      <td>cbcf418306db3db0486c359b0f5b7ffa</td>\n",
       "      <td>35.66673007</td>\n",
       "      <td>CREDITO</td>\n",
       "    </tr>\n",
       "    <tr>\n",
       "      <th>3</th>\n",
       "      <td>075d178871d8d48502bf1f54887e52fe</td>\n",
       "      <td>46032962fab1112ffaa63276cc17b19e</td>\n",
       "      <td>40d92864e9f2bfb038a41804045cd700</td>\n",
       "      <td>2021-09-12 18:07:19</td>\n",
       "      <td>0863565298fcac1cde864beac71480c3</td>\n",
       "      <td>1053091431afaccf776a6aa7da47937f</td>\n",
       "      <td>10.70001902</td>\n",
       "      <td>CREDITO</td>\n",
       "    </tr>\n",
       "    <tr>\n",
       "      <th>4</th>\n",
       "      <td>075d178871d8d48502bf1f54887e52fe</td>\n",
       "      <td>4bd76c0db0a932fa5e7194c0eee85fd0</td>\n",
       "      <td>66c09ecb6efbff04e80f3f491801e371</td>\n",
       "      <td>2021-09-12 18:06:23</td>\n",
       "      <td>c5aaf5485c512e5b76bf6be7d736e9d0</td>\n",
       "      <td>ce1c4d09bf3df578d3b48ecc23cd201d</td>\n",
       "      <td>59.44455012</td>\n",
       "      <td>CREDITO</td>\n",
       "    </tr>\n",
       "    <tr>\n",
       "      <th>...</th>\n",
       "      <td>...</td>\n",
       "      <td>...</td>\n",
       "      <td>...</td>\n",
       "      <td>...</td>\n",
       "      <td>...</td>\n",
       "      <td>...</td>\n",
       "      <td>...</td>\n",
       "      <td>...</td>\n",
       "    </tr>\n",
       "    <tr>\n",
       "      <th>10758327</th>\n",
       "      <td>838a8fa992a4aa2fb5a0cf8b15b63755</td>\n",
       "      <td>3d48771f71045de6b05be3efb324da69</td>\n",
       "      <td>6cdb6692859b081ae1d3d4545704a2eb</td>\n",
       "      <td>2021-11-30 11:09:55</td>\n",
       "      <td>29fafc056c517c614ee0dd9a93f3bb28</td>\n",
       "      <td>8873621e306643ce037d16242933e70b</td>\n",
       "      <td>50.52786760</td>\n",
       "      <td>CREDITO</td>\n",
       "    </tr>\n",
       "    <tr>\n",
       "      <th>10758328</th>\n",
       "      <td>838a8fa992a4aa2fb5a0cf8b15b63755</td>\n",
       "      <td>324e4ad6686b4ad712ba0684325d0785</td>\n",
       "      <td>97cd34132a4ca71d06ea4f1f67d2b1f9</td>\n",
       "      <td>2021-11-30 15:50:53</td>\n",
       "      <td>bc1dffb06909d65a9425129db77bf020</td>\n",
       "      <td>2fbe8b4e11b5477f8b8a4e64d2cedea8</td>\n",
       "      <td>19.02225603</td>\n",
       "      <td>CREDITO</td>\n",
       "    </tr>\n",
       "    <tr>\n",
       "      <th>10758329</th>\n",
       "      <td>838a8fa992a4aa2fb5a0cf8b15b63755</td>\n",
       "      <td>63ad83d5ca20d4a7840c6b437e22972c</td>\n",
       "      <td>a872f515f65d80bfd899b350054dd457</td>\n",
       "      <td>2021-11-30 14:13:41</td>\n",
       "      <td>d7768104183b80a31919012e1e48e412</td>\n",
       "      <td>257200e80942edf1888a93ead4125dcb</td>\n",
       "      <td>5.94445501</td>\n",
       "      <td>CREDITO</td>\n",
       "    </tr>\n",
       "    <tr>\n",
       "      <th>10758330</th>\n",
       "      <td>838a8fa992a4aa2fb5a0cf8b15b63755</td>\n",
       "      <td>f73f9e553f3b272ea7fdc71ab92c9e02</td>\n",
       "      <td>a492a94a8178125678ea68bbc5d3ee53</td>\n",
       "      <td>2021-11-30 15:08:41</td>\n",
       "      <td>a1f2f2049df145c8380830a31f1e2197</td>\n",
       "      <td>2fb05d8d81622621e9a20ff8a73c825f</td>\n",
       "      <td>11.88891002</td>\n",
       "      <td>CREDITO</td>\n",
       "    </tr>\n",
       "    <tr>\n",
       "      <th>10758331</th>\n",
       "      <td>838a8fa992a4aa2fb5a0cf8b15b63755</td>\n",
       "      <td>ca01dc197a71c28a4598aa73e7fa2935</td>\n",
       "      <td>111327742fda2c000703f6344eeced78</td>\n",
       "      <td>2021-11-30 12:37:30</td>\n",
       "      <td>933c2ab64504126d2887f79701d83048</td>\n",
       "      <td>746b25b44511406aa20e281b2999bc98</td>\n",
       "      <td>358.45063724</td>\n",
       "      <td>CREDITO</td>\n",
       "    </tr>\n",
       "  </tbody>\n",
       "</table>\n",
       "<p>10758332 rows × 8 columns</p>\n",
       "</div>"
      ],
      "text/plain": [
       "                               merchant_id                               _id  \\\n",
       "0         075d178871d8d48502bf1f54887e52fe  3aeb98f02b9fbf01cc14f1679b09d5e0   \n",
       "1         075d178871d8d48502bf1f54887e52fe  dce1a8ee2b93dcf25a3ab04a7704004a   \n",
       "2         075d178871d8d48502bf1f54887e52fe  d4a6a637e49e790d5810a4abc5352c53   \n",
       "3         075d178871d8d48502bf1f54887e52fe  46032962fab1112ffaa63276cc17b19e   \n",
       "4         075d178871d8d48502bf1f54887e52fe  4bd76c0db0a932fa5e7194c0eee85fd0   \n",
       "...                                    ...                               ...   \n",
       "10758327  838a8fa992a4aa2fb5a0cf8b15b63755  3d48771f71045de6b05be3efb324da69   \n",
       "10758328  838a8fa992a4aa2fb5a0cf8b15b63755  324e4ad6686b4ad712ba0684325d0785   \n",
       "10758329  838a8fa992a4aa2fb5a0cf8b15b63755  63ad83d5ca20d4a7840c6b437e22972c   \n",
       "10758330  838a8fa992a4aa2fb5a0cf8b15b63755  f73f9e553f3b272ea7fdc71ab92c9e02   \n",
       "10758331  838a8fa992a4aa2fb5a0cf8b15b63755  ca01dc197a71c28a4598aa73e7fa2935   \n",
       "\n",
       "                                subsidiary    transaction_date  \\\n",
       "0         fb502e2ca32fb79609ca7514d41c02cd 2021-09-12 18:07:10   \n",
       "1         9dbcf12729217f1027caf6b1e7eb5728 2021-09-12 18:06:56   \n",
       "2         e3936fe59f0f400afa47802c0f4c2ba2 2021-09-12 18:06:37   \n",
       "3         40d92864e9f2bfb038a41804045cd700 2021-09-12 18:07:19   \n",
       "4         66c09ecb6efbff04e80f3f491801e371 2021-09-12 18:06:23   \n",
       "...                                    ...                 ...   \n",
       "10758327  6cdb6692859b081ae1d3d4545704a2eb 2021-11-30 11:09:55   \n",
       "10758328  97cd34132a4ca71d06ea4f1f67d2b1f9 2021-11-30 15:50:53   \n",
       "10758329  a872f515f65d80bfd899b350054dd457 2021-11-30 14:13:41   \n",
       "10758330  a492a94a8178125678ea68bbc5d3ee53 2021-11-30 15:08:41   \n",
       "10758331  111327742fda2c000703f6344eeced78 2021-11-30 12:37:30   \n",
       "\n",
       "                            account_number                           user_id  \\\n",
       "0         cc18c62a51b048ebf7e11ef8994c1ff3  d796d6838f4874508d5a7d1fd6fef607   \n",
       "1         d8e0d4c8125577f5a3633dd6af140eaa  eb4464242fe2bb9b7fbf6d3d38474c1e   \n",
       "2         d0d42a4eeb347c6492ef981985a47732  cbcf418306db3db0486c359b0f5b7ffa   \n",
       "3         0863565298fcac1cde864beac71480c3  1053091431afaccf776a6aa7da47937f   \n",
       "4         c5aaf5485c512e5b76bf6be7d736e9d0  ce1c4d09bf3df578d3b48ecc23cd201d   \n",
       "...                                    ...                               ...   \n",
       "10758327  29fafc056c517c614ee0dd9a93f3bb28  8873621e306643ce037d16242933e70b   \n",
       "10758328  bc1dffb06909d65a9425129db77bf020  2fbe8b4e11b5477f8b8a4e64d2cedea8   \n",
       "10758329  d7768104183b80a31919012e1e48e412  257200e80942edf1888a93ead4125dcb   \n",
       "10758330  a1f2f2049df145c8380830a31f1e2197  2fb05d8d81622621e9a20ff8a73c825f   \n",
       "10758331  933c2ab64504126d2887f79701d83048  746b25b44511406aa20e281b2999bc98   \n",
       "\n",
       "         transaction_amount transaction_type  \n",
       "0               59.44455012          CREDITO  \n",
       "1               23.77782004          CREDITO  \n",
       "2               35.66673007          CREDITO  \n",
       "3               10.70001902          CREDITO  \n",
       "4               59.44455012          CREDITO  \n",
       "...                     ...              ...  \n",
       "10758327        50.52786760          CREDITO  \n",
       "10758328        19.02225603          CREDITO  \n",
       "10758329         5.94445501          CREDITO  \n",
       "10758330        11.88891002          CREDITO  \n",
       "10758331       358.45063724          CREDITO  \n",
       "\n",
       "[10758332 rows x 8 columns]"
      ]
     },
     "execution_count": 6,
     "metadata": {},
     "output_type": "execute_result"
    }
   ],
   "source": [
    "base"
   ]
  },
  {
   "cell_type": "markdown",
   "metadata": {},
   "source": [
    "## 3. Variables"
   ]
  },
  {
   "cell_type": "markdown",
   "metadata": {},
   "source": [
    " * _id: Identificador único del registro\n",
    " * merchant_id: Código único del Comercio o aliado.\n",
    " * subsidiary: Código unico de la sede o sucursal.\n",
    " * transaction_date: Fecha de contabilización de la transacción en el core Financiero.\n",
    " * account_number: numero único de cuenta\n",
    " * user_id: Código único del usuario dueño de la cuenta desde donde se registran las transacciones.\n",
    " * transaction_amount: Monto de la transaction en moneda ficticia.\n",
    " * transaction_type: Naturaleza de la transacción valores (DEBITO o CREDITO)"
   ]
  },
  {
   "cell_type": "code",
   "execution_count": 7,
   "metadata": {},
   "outputs": [
    {
     "name": "stdout",
     "output_type": "stream",
     "text": [
      "<class 'pandas.core.frame.DataFrame'>\n",
      "RangeIndex: 10758332 entries, 0 to 10758331\n",
      "Data columns (total 8 columns):\n",
      " #   Column              Dtype         \n",
      "---  ------              -----         \n",
      " 0   merchant_id         object        \n",
      " 1   _id                 object        \n",
      " 2   subsidiary          object        \n",
      " 3   transaction_date    datetime64[ns]\n",
      " 4   account_number      object        \n",
      " 5   user_id             object        \n",
      " 6   transaction_amount  object        \n",
      " 7   transaction_type    object        \n",
      "dtypes: datetime64[ns](1), object(7)\n",
      "memory usage: 656.6+ MB\n"
     ]
    }
   ],
   "source": [
    "base.info()"
   ]
  },
  {
   "cell_type": "markdown",
   "metadata": {},
   "source": [
    "Cambio de tipo de datos para monto (transaction_amount)"
   ]
  },
  {
   "cell_type": "code",
   "execution_count": 8,
   "metadata": {},
   "outputs": [],
   "source": [
    "base['transaction_amount']=base['transaction_amount'].astype(float)"
   ]
  },
  {
   "cell_type": "markdown",
   "metadata": {},
   "source": [
    "Cambio tipo de dato de la fecha (transaction_date)"
   ]
  },
  {
   "cell_type": "code",
   "execution_count": 9,
   "metadata": {},
   "outputs": [],
   "source": [
    "base['transaction_date']=pd.to_datetime(base['transaction_date'],format=\"%Y-%m-%d %H:%M:%S\")"
   ]
  },
  {
   "cell_type": "markdown",
   "metadata": {},
   "source": [
    "## 4. Análisis descriptivo variables iniciales"
   ]
  },
  {
   "cell_type": "code",
   "execution_count": 10,
   "metadata": {},
   "outputs": [
    {
     "data": {
      "text/plain": [
       "merchant_id           0\n",
       "_id                   0\n",
       "subsidiary            0\n",
       "transaction_date      0\n",
       "account_number        0\n",
       "user_id               0\n",
       "transaction_amount    0\n",
       "transaction_type      0\n",
       "dtype: int64"
      ]
     },
     "execution_count": 10,
     "metadata": {},
     "output_type": "execute_result"
    }
   ],
   "source": [
    "base.isnull().sum()\n",
    "#no existen datos nulos"
   ]
  },
  {
   "cell_type": "code",
   "execution_count": 11,
   "metadata": {},
   "outputs": [
    {
     "data": {
      "text/html": [
       "<div>\n",
       "<style scoped>\n",
       "    .dataframe tbody tr th:only-of-type {\n",
       "        vertical-align: middle;\n",
       "    }\n",
       "\n",
       "    .dataframe tbody tr th {\n",
       "        vertical-align: top;\n",
       "    }\n",
       "\n",
       "    .dataframe thead th {\n",
       "        text-align: right;\n",
       "    }\n",
       "</style>\n",
       "<table border=\"1\" class=\"dataframe\">\n",
       "  <thead>\n",
       "    <tr style=\"text-align: right;\">\n",
       "      <th></th>\n",
       "      <th>transaction_amount</th>\n",
       "    </tr>\n",
       "  </thead>\n",
       "  <tbody>\n",
       "    <tr>\n",
       "      <th>count</th>\n",
       "      <td>10758332.0000</td>\n",
       "    </tr>\n",
       "    <tr>\n",
       "      <th>mean</th>\n",
       "      <td>190.9201</td>\n",
       "    </tr>\n",
       "    <tr>\n",
       "      <th>std</th>\n",
       "      <td>240.3924</td>\n",
       "    </tr>\n",
       "    <tr>\n",
       "      <th>min</th>\n",
       "      <td>5.9445</td>\n",
       "    </tr>\n",
       "    <tr>\n",
       "      <th>25%</th>\n",
       "      <td>35.6667</td>\n",
       "    </tr>\n",
       "    <tr>\n",
       "      <th>50%</th>\n",
       "      <td>107.0002</td>\n",
       "    </tr>\n",
       "    <tr>\n",
       "      <th>75%</th>\n",
       "      <td>237.7782</td>\n",
       "    </tr>\n",
       "    <tr>\n",
       "      <th>max</th>\n",
       "      <td>3210.0057</td>\n",
       "    </tr>\n",
       "  </tbody>\n",
       "</table>\n",
       "</div>"
      ],
      "text/plain": [
       "       transaction_amount\n",
       "count       10758332.0000\n",
       "mean             190.9201\n",
       "std              240.3924\n",
       "min                5.9445\n",
       "25%               35.6667\n",
       "50%              107.0002\n",
       "75%              237.7782\n",
       "max             3210.0057"
      ]
     },
     "execution_count": 11,
     "metadata": {},
     "output_type": "execute_result"
    }
   ],
   "source": [
    "base.describe()"
   ]
  },
  {
   "cell_type": "code",
   "execution_count": 12,
   "metadata": {},
   "outputs": [
    {
     "data": {
      "text/plain": [
       "count                10758332\n",
       "unique                7615469\n",
       "top       2021-06-21 14:53:30\n",
       "freq                       30\n",
       "first     2021-01-01 00:02:23\n",
       "last      2021-11-30 23:59:53\n",
       "Name: transaction_date, dtype: object"
      ]
     },
     "execution_count": 12,
     "metadata": {},
     "output_type": "execute_result"
    }
   ],
   "source": [
    "#Fecha\n",
    "base['transaction_date'].describe()"
   ]
  },
  {
   "cell_type": "code",
   "execution_count": 13,
   "metadata": {},
   "outputs": [
    {
     "data": {
      "text/plain": [
       "Timestamp('2021-11-30 23:59:53')"
      ]
     },
     "execution_count": 13,
     "metadata": {},
     "output_type": "execute_result"
    }
   ],
   "source": [
    "base['transaction_date'].max()"
   ]
  },
  {
   "cell_type": "markdown",
   "metadata": {},
   "source": [
    "Distribución monto"
   ]
  },
  {
   "cell_type": "code",
   "execution_count": 14,
   "metadata": {},
   "outputs": [
    {
     "data": {
      "image/png": "[encoded data removed]",
      "text/plain": [
       "<Figure size 432x288 with 1 Axes>"
      ]
     },
     "metadata": {},
     "output_type": "display_data"
    }
   ],
   "source": [
    "base['transaction_amount'].hist()\n",
    "plt.title('Distribución Monto Transacciones')\n",
    "plt.show()"
   ]
  },
  {
   "cell_type": "markdown",
   "metadata": {},
   "source": [
    "Monto diario"
   ]
  },
  {
   "cell_type": "code",
   "execution_count": 15,
   "metadata": {},
   "outputs": [],
   "source": [
    "monto_diario=base.groupby([pd.Grouper(key='transaction_date',freq='D')]).agg({'transaction_amount':'sum'})"
   ]
  },
  {
   "cell_type": "code",
   "execution_count": 16,
   "metadata": {},
   "outputs": [
    {
     "data": {
      "text/html": [
       "<div>\n",
       "<style scoped>\n",
       "    .dataframe tbody tr th:only-of-type {\n",
       "        vertical-align: middle;\n",
       "    }\n",
       "\n",
       "    .dataframe tbody tr th {\n",
       "        vertical-align: top;\n",
       "    }\n",
       "\n",
       "    .dataframe thead th {\n",
       "        text-align: right;\n",
       "    }\n",
       "</style>\n",
       "<table border=\"1\" class=\"dataframe\">\n",
       "  <thead>\n",
       "    <tr style=\"text-align: right;\">\n",
       "      <th></th>\n",
       "      <th>transaction_amount</th>\n",
       "    </tr>\n",
       "    <tr>\n",
       "      <th>transaction_date</th>\n",
       "      <th></th>\n",
       "    </tr>\n",
       "  </thead>\n",
       "  <tbody>\n",
       "    <tr>\n",
       "      <th>2021-01-01</th>\n",
       "      <td>732404.3406</td>\n",
       "    </tr>\n",
       "    <tr>\n",
       "      <th>2021-01-02</th>\n",
       "      <td>2521971.3559</td>\n",
       "    </tr>\n",
       "    <tr>\n",
       "      <th>2021-01-03</th>\n",
       "      <td>1958082.7622</td>\n",
       "    </tr>\n",
       "    <tr>\n",
       "      <th>2021-01-04</th>\n",
       "      <td>5005693.0555</td>\n",
       "    </tr>\n",
       "    <tr>\n",
       "      <th>2021-01-05</th>\n",
       "      <td>4823710.6570</td>\n",
       "    </tr>\n",
       "  </tbody>\n",
       "</table>\n",
       "</div>"
      ],
      "text/plain": [
       "                  transaction_amount\n",
       "transaction_date                    \n",
       "2021-01-01               732404.3406\n",
       "2021-01-02              2521971.3559\n",
       "2021-01-03              1958082.7622\n",
       "2021-01-04              5005693.0555\n",
       "2021-01-05              4823710.6570"
      ]
     },
     "execution_count": 16,
     "metadata": {},
     "output_type": "execute_result"
    }
   ],
   "source": [
    "monto_diario.head()"
   ]
  },
  {
   "cell_type": "code",
   "execution_count": 17,
   "metadata": {
    "scrolled": true
   },
   "outputs": [
    {
     "data": {
      "text/plain": [
       "<matplotlib.axes._subplots.AxesSubplot at 0x24483bcfc08>"
      ]
     },
     "execution_count": 17,
     "metadata": {},
     "output_type": "execute_result"
    },
    {
     "data": {
      "image/png": "[encoded data removed]",
      "text/plain": [
       "<Figure size 1440x432 with 1 Axes>"
      ]
     },
     "metadata": {},
     "output_type": "display_data"
    }
   ],
   "source": [
    "monto_diario.plot.line(y='transaction_amount',figsize=(20,6),lw=2)"
   ]
  },
  {
   "cell_type": "markdown",
   "metadata": {},
   "source": [
    "Transacciones diarias"
   ]
  },
  {
   "cell_type": "code",
   "execution_count": 18,
   "metadata": {},
   "outputs": [],
   "source": [
    "cantidad_diaria=base.groupby([pd.Grouper(key='transaction_date',freq='D')]).agg({'_id':'count'}).rename(columns={'_id':'cantidad'})"
   ]
  },
  {
   "cell_type": "code",
   "execution_count": 19,
   "metadata": {},
   "outputs": [
    {
     "data": {
      "text/html": [
       "<div>\n",
       "<style scoped>\n",
       "    .dataframe tbody tr th:only-of-type {\n",
       "        vertical-align: middle;\n",
       "    }\n",
       "\n",
       "    .dataframe tbody tr th {\n",
       "        vertical-align: top;\n",
       "    }\n",
       "\n",
       "    .dataframe thead th {\n",
       "        text-align: right;\n",
       "    }\n",
       "</style>\n",
       "<table border=\"1\" class=\"dataframe\">\n",
       "  <thead>\n",
       "    <tr style=\"text-align: right;\">\n",
       "      <th></th>\n",
       "      <th>cantidad</th>\n",
       "    </tr>\n",
       "    <tr>\n",
       "      <th>transaction_date</th>\n",
       "      <th></th>\n",
       "    </tr>\n",
       "  </thead>\n",
       "  <tbody>\n",
       "    <tr>\n",
       "      <th>2021-01-01</th>\n",
       "      <td>9069</td>\n",
       "    </tr>\n",
       "    <tr>\n",
       "      <th>2021-01-02</th>\n",
       "      <td>19767</td>\n",
       "    </tr>\n",
       "    <tr>\n",
       "      <th>2021-01-03</th>\n",
       "      <td>18668</td>\n",
       "    </tr>\n",
       "    <tr>\n",
       "      <th>2021-01-04</th>\n",
       "      <td>34443</td>\n",
       "    </tr>\n",
       "    <tr>\n",
       "      <th>2021-01-05</th>\n",
       "      <td>34397</td>\n",
       "    </tr>\n",
       "  </tbody>\n",
       "</table>\n",
       "</div>"
      ],
      "text/plain": [
       "                  cantidad\n",
       "transaction_date          \n",
       "2021-01-01            9069\n",
       "2021-01-02           19767\n",
       "2021-01-03           18668\n",
       "2021-01-04           34443\n",
       "2021-01-05           34397"
      ]
     },
     "execution_count": 19,
     "metadata": {},
     "output_type": "execute_result"
    }
   ],
   "source": [
    "cantidad_diaria.head()"
   ]
  },
  {
   "cell_type": "code",
   "execution_count": 20,
   "metadata": {},
   "outputs": [
    {
     "data": {
      "text/plain": [
       "<matplotlib.axes._subplots.AxesSubplot at 0x24483fde408>"
      ]
     },
     "execution_count": 20,
     "metadata": {},
     "output_type": "execute_result"
    },
    {
     "data": {
      "image/png": "[encoded data removed]",
      "text/plain": [
       "<Figure size 1440x432 with 1 Axes>"
      ]
     },
     "metadata": {},
     "output_type": "display_data"
    }
   ],
   "source": [
    "cantidad_diaria.plot.line(y='cantidad',figsize=(20,6),lw=2)"
   ]
  },
  {
   "cell_type": "markdown",
   "metadata": {},
   "source": [
    "Análisis por días de la semana"
   ]
  },
  {
   "cell_type": "code",
   "execution_count": 21,
   "metadata": {},
   "outputs": [
    {
     "data": {
      "text/html": [
       "<div>\n",
       "<style scoped>\n",
       "    .dataframe tbody tr th:only-of-type {\n",
       "        vertical-align: middle;\n",
       "    }\n",
       "\n",
       "    .dataframe tbody tr th {\n",
       "        vertical-align: top;\n",
       "    }\n",
       "\n",
       "    .dataframe thead th {\n",
       "        text-align: right;\n",
       "    }\n",
       "</style>\n",
       "<table border=\"1\" class=\"dataframe\">\n",
       "  <thead>\n",
       "    <tr style=\"text-align: right;\">\n",
       "      <th></th>\n",
       "      <th>cantidad</th>\n",
       "      <th>dia_semana</th>\n",
       "    </tr>\n",
       "    <tr>\n",
       "      <th>transaction_date</th>\n",
       "      <th></th>\n",
       "      <th></th>\n",
       "    </tr>\n",
       "  </thead>\n",
       "  <tbody>\n",
       "    <tr>\n",
       "      <th>2021-01-01</th>\n",
       "      <td>9069</td>\n",
       "      <td>Viernes</td>\n",
       "    </tr>\n",
       "    <tr>\n",
       "      <th>2021-01-02</th>\n",
       "      <td>19767</td>\n",
       "      <td>Sábado</td>\n",
       "    </tr>\n",
       "    <tr>\n",
       "      <th>2021-01-03</th>\n",
       "      <td>18668</td>\n",
       "      <td>Domingo</td>\n",
       "    </tr>\n",
       "    <tr>\n",
       "      <th>2021-01-04</th>\n",
       "      <td>34443</td>\n",
       "      <td>Lunes</td>\n",
       "    </tr>\n",
       "    <tr>\n",
       "      <th>2021-01-05</th>\n",
       "      <td>34397</td>\n",
       "      <td>Martes</td>\n",
       "    </tr>\n",
       "    <tr>\n",
       "      <th>...</th>\n",
       "      <td>...</td>\n",
       "      <td>...</td>\n",
       "    </tr>\n",
       "    <tr>\n",
       "      <th>2021-11-26</th>\n",
       "      <td>44600</td>\n",
       "      <td>Viernes</td>\n",
       "    </tr>\n",
       "    <tr>\n",
       "      <th>2021-11-27</th>\n",
       "      <td>41464</td>\n",
       "      <td>Sábado</td>\n",
       "    </tr>\n",
       "    <tr>\n",
       "      <th>2021-11-28</th>\n",
       "      <td>29279</td>\n",
       "      <td>Domingo</td>\n",
       "    </tr>\n",
       "    <tr>\n",
       "      <th>2021-11-29</th>\n",
       "      <td>43583</td>\n",
       "      <td>Lunes</td>\n",
       "    </tr>\n",
       "    <tr>\n",
       "      <th>2021-11-30</th>\n",
       "      <td>36965</td>\n",
       "      <td>Martes</td>\n",
       "    </tr>\n",
       "  </tbody>\n",
       "</table>\n",
       "<p>334 rows × 2 columns</p>\n",
       "</div>"
      ],
      "text/plain": [
       "                  cantidad dia_semana\n",
       "transaction_date                     \n",
       "2021-01-01            9069    Viernes\n",
       "2021-01-02           19767     Sábado\n",
       "2021-01-03           18668    Domingo\n",
       "2021-01-04           34443      Lunes\n",
       "2021-01-05           34397     Martes\n",
       "...                    ...        ...\n",
       "2021-11-26           44600    Viernes\n",
       "2021-11-27           41464     Sábado\n",
       "2021-11-28           29279    Domingo\n",
       "2021-11-29           43583      Lunes\n",
       "2021-11-30           36965     Martes\n",
       "\n",
       "[334 rows x 2 columns]"
      ]
     },
     "execution_count": 21,
     "metadata": {},
     "output_type": "execute_result"
    }
   ],
   "source": [
    "cantidad_sem=cantidad_diaria.copy()\n",
    "cantidad_sem['dia_semana'] = cantidad_sem.index.day_name(locale = 'Spanish')\n",
    "cantidad_sem.sort_index(ascending = True)"
   ]
  },
  {
   "cell_type": "code",
   "execution_count": 22,
   "metadata": {},
   "outputs": [
    {
     "data": {
      "text/html": [
       "<div>\n",
       "<style scoped>\n",
       "    .dataframe tbody tr th:only-of-type {\n",
       "        vertical-align: middle;\n",
       "    }\n",
       "\n",
       "    .dataframe tbody tr th {\n",
       "        vertical-align: top;\n",
       "    }\n",
       "\n",
       "    .dataframe thead th {\n",
       "        text-align: right;\n",
       "    }\n",
       "</style>\n",
       "<table border=\"1\" class=\"dataframe\">\n",
       "  <thead>\n",
       "    <tr style=\"text-align: right;\">\n",
       "      <th></th>\n",
       "      <th>cantidad</th>\n",
       "    </tr>\n",
       "    <tr>\n",
       "      <th>dia_semana</th>\n",
       "      <th></th>\n",
       "    </tr>\n",
       "  </thead>\n",
       "  <tbody>\n",
       "    <tr>\n",
       "      <th>Domingo</th>\n",
       "      <td>1006902</td>\n",
       "    </tr>\n",
       "    <tr>\n",
       "      <th>Jueves</th>\n",
       "      <td>1602780</td>\n",
       "    </tr>\n",
       "    <tr>\n",
       "      <th>Lunes</th>\n",
       "      <td>1552282</td>\n",
       "    </tr>\n",
       "    <tr>\n",
       "      <th>Martes</th>\n",
       "      <td>1679645</td>\n",
       "    </tr>\n",
       "    <tr>\n",
       "      <th>Miércoles</th>\n",
       "      <td>1628432</td>\n",
       "    </tr>\n",
       "    <tr>\n",
       "      <th>Sábado</th>\n",
       "      <td>1632620</td>\n",
       "    </tr>\n",
       "    <tr>\n",
       "      <th>Viernes</th>\n",
       "      <td>1655671</td>\n",
       "    </tr>\n",
       "  </tbody>\n",
       "</table>\n",
       "</div>"
      ],
      "text/plain": [
       "            cantidad\n",
       "dia_semana          \n",
       "Domingo      1006902\n",
       "Jueves       1602780\n",
       "Lunes        1552282\n",
       "Martes       1679645\n",
       "Miércoles    1628432\n",
       "Sábado       1632620\n",
       "Viernes      1655671"
      ]
     },
     "execution_count": 22,
     "metadata": {},
     "output_type": "execute_result"
    }
   ],
   "source": [
    "cantidad_semanal=cantidad_sem.groupby('dia_semana').agg({'cantidad':'sum'})\n",
    "cantidad_semanal"
   ]
  },
  {
   "cell_type": "code",
   "execution_count": 23,
   "metadata": {},
   "outputs": [
    {
     "data": {
      "text/plain": [
       "<matplotlib.axes._subplots.AxesSubplot at 0x24483fd7dc8>"
      ]
     },
     "execution_count": 23,
     "metadata": {},
     "output_type": "execute_result"
    },
    {
     "data": {
      "image/png": "[encoded data removed]",
      "text/plain": [
       "<Figure size 1440x432 with 1 Axes>"
      ]
     },
     "metadata": {},
     "output_type": "display_data"
    }
   ],
   "source": [
    "cantidad_semanal.plot.line(y='cantidad',figsize=(20,6),lw=2)"
   ]
  },
  {
   "cell_type": "markdown",
   "metadata": {},
   "source": [
    "martes mayor flujo de transacciones, domingo menor flujo de transacciones"
   ]
  },
  {
   "cell_type": "markdown",
   "metadata": {},
   "source": [
    "Análisis por mes"
   ]
  },
  {
   "cell_type": "code",
   "execution_count": 24,
   "metadata": {},
   "outputs": [],
   "source": [
    "cantidad_mensual=base.groupby([pd.Grouper(key='transaction_date',freq='M')]).agg({'_id':'count'}).rename(columns={'_id':'cant'})\n",
    "monto_mensual=base.groupby([pd.Grouper(key='transaction_date',freq='M')]).agg({'transaction_amount':'sum'}).rename(columns={'_id':'sum'})"
   ]
  },
  {
   "cell_type": "code",
   "execution_count": 25,
   "metadata": {},
   "outputs": [
    {
     "data": {
      "text/html": [
       "<div>\n",
       "<style scoped>\n",
       "    .dataframe tbody tr th:only-of-type {\n",
       "        vertical-align: middle;\n",
       "    }\n",
       "\n",
       "    .dataframe tbody tr th {\n",
       "        vertical-align: top;\n",
       "    }\n",
       "\n",
       "    .dataframe thead th {\n",
       "        text-align: right;\n",
       "    }\n",
       "</style>\n",
       "<table border=\"1\" class=\"dataframe\">\n",
       "  <thead>\n",
       "    <tr style=\"text-align: right;\">\n",
       "      <th></th>\n",
       "      <th>cant</th>\n",
       "    </tr>\n",
       "    <tr>\n",
       "      <th>transaction_date</th>\n",
       "      <th></th>\n",
       "    </tr>\n",
       "  </thead>\n",
       "  <tbody>\n",
       "    <tr>\n",
       "      <th>2021-01-31</th>\n",
       "      <td>967975</td>\n",
       "    </tr>\n",
       "    <tr>\n",
       "      <th>2021-02-28</th>\n",
       "      <td>995965</td>\n",
       "    </tr>\n",
       "    <tr>\n",
       "      <th>2021-03-31</th>\n",
       "      <td>759632</td>\n",
       "    </tr>\n",
       "    <tr>\n",
       "      <th>2021-04-30</th>\n",
       "      <td>705216</td>\n",
       "    </tr>\n",
       "    <tr>\n",
       "      <th>2021-05-31</th>\n",
       "      <td>858202</td>\n",
       "    </tr>\n",
       "    <tr>\n",
       "      <th>2021-06-30</th>\n",
       "      <td>984388</td>\n",
       "    </tr>\n",
       "    <tr>\n",
       "      <th>2021-07-31</th>\n",
       "      <td>1034084</td>\n",
       "    </tr>\n",
       "    <tr>\n",
       "      <th>2021-08-31</th>\n",
       "      <td>979051</td>\n",
       "    </tr>\n",
       "    <tr>\n",
       "      <th>2021-09-30</th>\n",
       "      <td>1076633</td>\n",
       "    </tr>\n",
       "    <tr>\n",
       "      <th>2021-10-31</th>\n",
       "      <td>1185483</td>\n",
       "    </tr>\n",
       "    <tr>\n",
       "      <th>2021-11-30</th>\n",
       "      <td>1211703</td>\n",
       "    </tr>\n",
       "  </tbody>\n",
       "</table>\n",
       "</div>"
      ],
      "text/plain": [
       "                     cant\n",
       "transaction_date         \n",
       "2021-01-31         967975\n",
       "2021-02-28         995965\n",
       "2021-03-31         759632\n",
       "2021-04-30         705216\n",
       "2021-05-31         858202\n",
       "2021-06-30         984388\n",
       "2021-07-31        1034084\n",
       "2021-08-31         979051\n",
       "2021-09-30        1076633\n",
       "2021-10-31        1185483\n",
       "2021-11-30        1211703"
      ]
     },
     "execution_count": 25,
     "metadata": {},
     "output_type": "execute_result"
    }
   ],
   "source": [
    "cantidad_mensual"
   ]
  },
  {
   "cell_type": "code",
   "execution_count": 26,
   "metadata": {
    "scrolled": true
   },
   "outputs": [
    {
     "data": {
      "text/plain": [
       "<matplotlib.axes._subplots.AxesSubplot at 0x24483ec9208>"
      ]
     },
     "execution_count": 26,
     "metadata": {},
     "output_type": "execute_result"
    },
    {
     "data": {
      "image/png": "[encoded data removed]",
      "text/plain": [
       "<Figure size 432x288 with 1 Axes>"
      ]
     },
     "metadata": {},
     "output_type": "display_data"
    }
   ],
   "source": [
    "cantidad_mensual.plot.line(y='cant')"
   ]
  },
  {
   "cell_type": "code",
   "execution_count": 27,
   "metadata": {},
   "outputs": [
    {
     "data": {
      "text/plain": [
       "<matplotlib.axes._subplots.AxesSubplot at 0x24483f2a648>"
      ]
     },
     "execution_count": 27,
     "metadata": {},
     "output_type": "execute_result"
    },
    {
     "data": {
      "image/png": "[encoded data removed]",
      "text/plain": [
       "<Figure size 432x288 with 1 Axes>"
      ]
     },
     "metadata": {},
     "output_type": "display_data"
    }
   ],
   "source": [
    "monto_mensual.plot.line(y='transaction_amount')"
   ]
  },
  {
   "cell_type": "markdown",
   "metadata": {},
   "source": [
    "Variables categóricas"
   ]
  },
  {
   "cell_type": "markdown",
   "metadata": {},
   "source": [
    "Código único del Comercio o aliado"
   ]
  },
  {
   "cell_type": "code",
   "execution_count": 28,
   "metadata": {},
   "outputs": [
    {
     "data": {
      "text/plain": [
       "count                             10758332\n",
       "unique                                   3\n",
       "top       817d18cd3c31e40e9bff0566baae7758\n",
       "freq                               7267200\n",
       "Name: merchant_id, dtype: object"
      ]
     },
     "execution_count": 28,
     "metadata": {},
     "output_type": "execute_result"
    }
   ],
   "source": [
    "base['merchant_id'].describe()"
   ]
  },
  {
   "cell_type": "code",
   "execution_count": 29,
   "metadata": {},
   "outputs": [
    {
     "data": {
      "text/plain": [
       "<matplotlib.axes._subplots.AxesSubplot at 0x244841f6888>"
      ]
     },
     "execution_count": 29,
     "metadata": {},
     "output_type": "execute_result"
    },
    {
     "data": {
      "image/png": "[encoded data removed]",
      "text/plain": [
       "<Figure size 432x288 with 1 Axes>"
      ]
     },
     "metadata": {},
     "output_type": "display_data"
    }
   ],
   "source": [
    "base['merchant_id'].hist()"
   ]
  },
  {
   "cell_type": "code",
   "execution_count": 30,
   "metadata": {},
   "outputs": [
    {
     "data": {
      "text/plain": [
       "count                             10758332\n",
       "unique                               16119\n",
       "top       f54e0b6b32831a6307361ed959903e76\n",
       "freq                                357502\n",
       "Name: subsidiary, dtype: object"
      ]
     },
     "execution_count": 30,
     "metadata": {},
     "output_type": "execute_result"
    }
   ],
   "source": [
    "base['subsidiary'].describe()"
   ]
  },
  {
   "cell_type": "code",
   "execution_count": 31,
   "metadata": {},
   "outputs": [
    {
     "data": {
      "text/plain": [
       "count                             10758332\n",
       "unique                             1958741\n",
       "top       bb43344022157cba434a58a212ed053f\n",
       "freq                                  1100\n",
       "Name: account_number, dtype: object"
      ]
     },
     "execution_count": 31,
     "metadata": {},
     "output_type": "execute_result"
    }
   ],
   "source": [
    "base['account_number'].describe()\n",
    "#tenemos 1'958.741 clientes y 10'758.332 transacciones en todo el periodo"
   ]
  },
  {
   "cell_type": "code",
   "execution_count": 32,
   "metadata": {},
   "outputs": [
    {
     "data": {
      "text/plain": [
       "count     10758332\n",
       "unique           2\n",
       "top         DEBITO\n",
       "freq       8593233\n",
       "Name: transaction_type, dtype: object"
      ]
     },
     "execution_count": 32,
     "metadata": {},
     "output_type": "execute_result"
    }
   ],
   "source": [
    "base['transaction_type'].describe()\n",
    "#crédito y débito son los tipos de transaccion"
   ]
  },
  {
   "cell_type": "code",
   "execution_count": 33,
   "metadata": {
    "scrolled": true
   },
   "outputs": [
    {
     "data": {
      "text/plain": [
       "<matplotlib.axes._subplots.AxesSubplot at 0x24483c48ec8>"
      ]
     },
     "execution_count": 33,
     "metadata": {},
     "output_type": "execute_result"
    },
    {
     "data": {
      "image/png": "[encoded data removed]",
      "text/plain": [
       "<Figure size 432x288 with 1 Axes>"
      ]
     },
     "metadata": {},
     "output_type": "display_data"
    }
   ],
   "source": [
    "base['transaction_type'].hist()"
   ]
  },
  {
   "cell_type": "markdown",
   "metadata": {},
   "source": [
    "Variables de tiempo"
   ]
  },
  {
   "cell_type": "code",
   "execution_count": 34,
   "metadata": {},
   "outputs": [],
   "source": [
    "base['hora']=base['transaction_date'].dt.hour\n",
    "base['dia']=base['transaction_date'].dt.day\n",
    "base['dia_sem'] = base['transaction_date'].dt.day_name(locale = 'Spanish')\n",
    "base['mes']=base['transaction_date'].dt.month\n",
    "base['year']=base['transaction_date'].dt.year"
   ]
  },
  {
   "cell_type": "code",
   "execution_count": 35,
   "metadata": {
    "scrolled": true
   },
   "outputs": [
    {
     "data": {
      "text/plain": [
       "<matplotlib.axes._subplots.AxesSubplot at 0x24484231f88>"
      ]
     },
     "execution_count": 35,
     "metadata": {},
     "output_type": "execute_result"
    },
    {
     "data": {
      "image/png": "[encoded data removed]",
      "text/plain": [
       "<Figure size 720x720 with 2 Axes>"
      ]
     },
     "metadata": {},
     "output_type": "display_data"
    }
   ],
   "source": [
    "#Análisis ultimo mes\n",
    "dense = base[base['mes']==11].groupby(['hora', 'dia_sem']).agg({'_id': 'count'}).reset_index()\n",
    "vmin, vmax = dense['_id'].quantile([0, 1])\n",
    "plt.figure(figsize = (10, 10))\n",
    "sns.heatmap(dense.pivot(index = 'hora', columns = 'dia_sem', values = '_id')[['Lunes', 'Martes', 'Miércoles', 'Jueves', 'Viernes', 'Sábado','Domingo']],\n",
    "                                 annot = True, vmin = vmin, vmax = vmax)"
   ]
  },
  {
   "cell_type": "markdown",
   "metadata": {},
   "source": [
    "PRUEBAS"
   ]
  },
  {
   "cell_type": "code",
   "execution_count": 36,
   "metadata": {},
   "outputs": [],
   "source": [
    "#a=base_fin[base_fin['subsidiary']=='f54e0b6b32831a6307361ed959903e76']"
   ]
  },
  {
   "cell_type": "code",
   "execution_count": 37,
   "metadata": {},
   "outputs": [],
   "source": [
    "#b=a[a['account_number']=='fc451c5e1737cf9d60fc983db47ff491']"
   ]
  },
  {
   "cell_type": "code",
   "execution_count": 38,
   "metadata": {},
   "outputs": [],
   "source": [
    "#b=b[b['dia']==8]"
   ]
  },
  {
   "cell_type": "code",
   "execution_count": 39,
   "metadata": {},
   "outputs": [],
   "source": [
    "#b=b[b['mes']==2]"
   ]
  },
  {
   "cell_type": "code",
   "execution_count": 40,
   "metadata": {},
   "outputs": [],
   "source": [
    "#b"
   ]
  },
  {
   "cell_type": "markdown",
   "metadata": {},
   "source": [
    "## 5. Agrupamiento y creación de variables"
   ]
  },
  {
   "cell_type": "markdown",
   "metadata": {},
   "source": [
    "Para identificar la mala práctica transaccional de los corresponsales, se hace un agrupamiento que va contar por comercio, número de cuenta las transacciones que se realizaron en un lapso de 24 horas. Se hace un conteo para saber que cantidad se hicieron. "
   ]
  },
  {
   "cell_type": "code",
   "execution_count": 41,
   "metadata": {},
   "outputs": [],
   "source": [
    "base_fin=base.copy()"
   ]
  },
  {
   "cell_type": "code",
   "execution_count": 42,
   "metadata": {},
   "outputs": [
    {
     "data": {
      "text/html": [
       "<div>\n",
       "<style scoped>\n",
       "    .dataframe tbody tr th:only-of-type {\n",
       "        vertical-align: middle;\n",
       "    }\n",
       "\n",
       "    .dataframe tbody tr th {\n",
       "        vertical-align: top;\n",
       "    }\n",
       "\n",
       "    .dataframe thead th {\n",
       "        text-align: right;\n",
       "    }\n",
       "</style>\n",
       "<table border=\"1\" class=\"dataframe\">\n",
       "  <thead>\n",
       "    <tr style=\"text-align: right;\">\n",
       "      <th></th>\n",
       "      <th>merchant_id</th>\n",
       "      <th>_id</th>\n",
       "      <th>subsidiary</th>\n",
       "      <th>transaction_date</th>\n",
       "      <th>account_number</th>\n",
       "      <th>user_id</th>\n",
       "      <th>transaction_amount</th>\n",
       "      <th>transaction_type</th>\n",
       "      <th>hora</th>\n",
       "      <th>dia</th>\n",
       "      <th>dia_sem</th>\n",
       "      <th>mes</th>\n",
       "      <th>year</th>\n",
       "    </tr>\n",
       "  </thead>\n",
       "  <tbody>\n",
       "    <tr>\n",
       "      <th>0</th>\n",
       "      <td>075d178871d8d48502bf1f54887e52fe</td>\n",
       "      <td>3aeb98f02b9fbf01cc14f1679b09d5e0</td>\n",
       "      <td>fb502e2ca32fb79609ca7514d41c02cd</td>\n",
       "      <td>2021-09-12 18:07:10</td>\n",
       "      <td>cc18c62a51b048ebf7e11ef8994c1ff3</td>\n",
       "      <td>d796d6838f4874508d5a7d1fd6fef607</td>\n",
       "      <td>59.4446</td>\n",
       "      <td>CREDITO</td>\n",
       "      <td>18</td>\n",
       "      <td>12</td>\n",
       "      <td>Domingo</td>\n",
       "      <td>9</td>\n",
       "      <td>2021</td>\n",
       "    </tr>\n",
       "    <tr>\n",
       "      <th>1</th>\n",
       "      <td>075d178871d8d48502bf1f54887e52fe</td>\n",
       "      <td>dce1a8ee2b93dcf25a3ab04a7704004a</td>\n",
       "      <td>9dbcf12729217f1027caf6b1e7eb5728</td>\n",
       "      <td>2021-09-12 18:06:56</td>\n",
       "      <td>d8e0d4c8125577f5a3633dd6af140eaa</td>\n",
       "      <td>eb4464242fe2bb9b7fbf6d3d38474c1e</td>\n",
       "      <td>23.7778</td>\n",
       "      <td>CREDITO</td>\n",
       "      <td>18</td>\n",
       "      <td>12</td>\n",
       "      <td>Domingo</td>\n",
       "      <td>9</td>\n",
       "      <td>2021</td>\n",
       "    </tr>\n",
       "    <tr>\n",
       "      <th>2</th>\n",
       "      <td>075d178871d8d48502bf1f54887e52fe</td>\n",
       "      <td>d4a6a637e49e790d5810a4abc5352c53</td>\n",
       "      <td>e3936fe59f0f400afa47802c0f4c2ba2</td>\n",
       "      <td>2021-09-12 18:06:37</td>\n",
       "      <td>d0d42a4eeb347c6492ef981985a47732</td>\n",
       "      <td>cbcf418306db3db0486c359b0f5b7ffa</td>\n",
       "      <td>35.6667</td>\n",
       "      <td>CREDITO</td>\n",
       "      <td>18</td>\n",
       "      <td>12</td>\n",
       "      <td>Domingo</td>\n",
       "      <td>9</td>\n",
       "      <td>2021</td>\n",
       "    </tr>\n",
       "    <tr>\n",
       "      <th>3</th>\n",
       "      <td>075d178871d8d48502bf1f54887e52fe</td>\n",
       "      <td>46032962fab1112ffaa63276cc17b19e</td>\n",
       "      <td>40d92864e9f2bfb038a41804045cd700</td>\n",
       "      <td>2021-09-12 18:07:19</td>\n",
       "      <td>0863565298fcac1cde864beac71480c3</td>\n",
       "      <td>1053091431afaccf776a6aa7da47937f</td>\n",
       "      <td>10.7000</td>\n",
       "      <td>CREDITO</td>\n",
       "      <td>18</td>\n",
       "      <td>12</td>\n",
       "      <td>Domingo</td>\n",
       "      <td>9</td>\n",
       "      <td>2021</td>\n",
       "    </tr>\n",
       "    <tr>\n",
       "      <th>4</th>\n",
       "      <td>075d178871d8d48502bf1f54887e52fe</td>\n",
       "      <td>4bd76c0db0a932fa5e7194c0eee85fd0</td>\n",
       "      <td>66c09ecb6efbff04e80f3f491801e371</td>\n",
       "      <td>2021-09-12 18:06:23</td>\n",
       "      <td>c5aaf5485c512e5b76bf6be7d736e9d0</td>\n",
       "      <td>ce1c4d09bf3df578d3b48ecc23cd201d</td>\n",
       "      <td>59.4446</td>\n",
       "      <td>CREDITO</td>\n",
       "      <td>18</td>\n",
       "      <td>12</td>\n",
       "      <td>Domingo</td>\n",
       "      <td>9</td>\n",
       "      <td>2021</td>\n",
       "    </tr>\n",
       "    <tr>\n",
       "      <th>...</th>\n",
       "      <td>...</td>\n",
       "      <td>...</td>\n",
       "      <td>...</td>\n",
       "      <td>...</td>\n",
       "      <td>...</td>\n",
       "      <td>...</td>\n",
       "      <td>...</td>\n",
       "      <td>...</td>\n",
       "      <td>...</td>\n",
       "      <td>...</td>\n",
       "      <td>...</td>\n",
       "      <td>...</td>\n",
       "      <td>...</td>\n",
       "    </tr>\n",
       "    <tr>\n",
       "      <th>10758327</th>\n",
       "      <td>838a8fa992a4aa2fb5a0cf8b15b63755</td>\n",
       "      <td>3d48771f71045de6b05be3efb324da69</td>\n",
       "      <td>6cdb6692859b081ae1d3d4545704a2eb</td>\n",
       "      <td>2021-11-30 11:09:55</td>\n",
       "      <td>29fafc056c517c614ee0dd9a93f3bb28</td>\n",
       "      <td>8873621e306643ce037d16242933e70b</td>\n",
       "      <td>50.5279</td>\n",
       "      <td>CREDITO</td>\n",
       "      <td>11</td>\n",
       "      <td>30</td>\n",
       "      <td>Martes</td>\n",
       "      <td>11</td>\n",
       "      <td>2021</td>\n",
       "    </tr>\n",
       "    <tr>\n",
       "      <th>10758328</th>\n",
       "      <td>838a8fa992a4aa2fb5a0cf8b15b63755</td>\n",
       "      <td>324e4ad6686b4ad712ba0684325d0785</td>\n",
       "      <td>97cd34132a4ca71d06ea4f1f67d2b1f9</td>\n",
       "      <td>2021-11-30 15:50:53</td>\n",
       "      <td>bc1dffb06909d65a9425129db77bf020</td>\n",
       "      <td>2fbe8b4e11b5477f8b8a4e64d2cedea8</td>\n",
       "      <td>19.0223</td>\n",
       "      <td>CREDITO</td>\n",
       "      <td>15</td>\n",
       "      <td>30</td>\n",
       "      <td>Martes</td>\n",
       "      <td>11</td>\n",
       "      <td>2021</td>\n",
       "    </tr>\n",
       "    <tr>\n",
       "      <th>10758329</th>\n",
       "      <td>838a8fa992a4aa2fb5a0cf8b15b63755</td>\n",
       "      <td>63ad83d5ca20d4a7840c6b437e22972c</td>\n",
       "      <td>a872f515f65d80bfd899b350054dd457</td>\n",
       "      <td>2021-11-30 14:13:41</td>\n",
       "      <td>d7768104183b80a31919012e1e48e412</td>\n",
       "      <td>257200e80942edf1888a93ead4125dcb</td>\n",
       "      <td>5.9445</td>\n",
       "      <td>CREDITO</td>\n",
       "      <td>14</td>\n",
       "      <td>30</td>\n",
       "      <td>Martes</td>\n",
       "      <td>11</td>\n",
       "      <td>2021</td>\n",
       "    </tr>\n",
       "    <tr>\n",
       "      <th>10758330</th>\n",
       "      <td>838a8fa992a4aa2fb5a0cf8b15b63755</td>\n",
       "      <td>f73f9e553f3b272ea7fdc71ab92c9e02</td>\n",
       "      <td>a492a94a8178125678ea68bbc5d3ee53</td>\n",
       "      <td>2021-11-30 15:08:41</td>\n",
       "      <td>a1f2f2049df145c8380830a31f1e2197</td>\n",
       "      <td>2fb05d8d81622621e9a20ff8a73c825f</td>\n",
       "      <td>11.8889</td>\n",
       "      <td>CREDITO</td>\n",
       "      <td>15</td>\n",
       "      <td>30</td>\n",
       "      <td>Martes</td>\n",
       "      <td>11</td>\n",
       "      <td>2021</td>\n",
       "    </tr>\n",
       "    <tr>\n",
       "      <th>10758331</th>\n",
       "      <td>838a8fa992a4aa2fb5a0cf8b15b63755</td>\n",
       "      <td>ca01dc197a71c28a4598aa73e7fa2935</td>\n",
       "      <td>111327742fda2c000703f6344eeced78</td>\n",
       "      <td>2021-11-30 12:37:30</td>\n",
       "      <td>933c2ab64504126d2887f79701d83048</td>\n",
       "      <td>746b25b44511406aa20e281b2999bc98</td>\n",
       "      <td>358.4506</td>\n",
       "      <td>CREDITO</td>\n",
       "      <td>12</td>\n",
       "      <td>30</td>\n",
       "      <td>Martes</td>\n",
       "      <td>11</td>\n",
       "      <td>2021</td>\n",
       "    </tr>\n",
       "  </tbody>\n",
       "</table>\n",
       "<p>10758332 rows × 13 columns</p>\n",
       "</div>"
      ],
      "text/plain": [
       "                               merchant_id                               _id  \\\n",
       "0         075d178871d8d48502bf1f54887e52fe  3aeb98f02b9fbf01cc14f1679b09d5e0   \n",
       "1         075d178871d8d48502bf1f54887e52fe  dce1a8ee2b93dcf25a3ab04a7704004a   \n",
       "2         075d178871d8d48502bf1f54887e52fe  d4a6a637e49e790d5810a4abc5352c53   \n",
       "3         075d178871d8d48502bf1f54887e52fe  46032962fab1112ffaa63276cc17b19e   \n",
       "4         075d178871d8d48502bf1f54887e52fe  4bd76c0db0a932fa5e7194c0eee85fd0   \n",
       "...                                    ...                               ...   \n",
       "10758327  838a8fa992a4aa2fb5a0cf8b15b63755  3d48771f71045de6b05be3efb324da69   \n",
       "10758328  838a8fa992a4aa2fb5a0cf8b15b63755  324e4ad6686b4ad712ba0684325d0785   \n",
       "10758329  838a8fa992a4aa2fb5a0cf8b15b63755  63ad83d5ca20d4a7840c6b437e22972c   \n",
       "10758330  838a8fa992a4aa2fb5a0cf8b15b63755  f73f9e553f3b272ea7fdc71ab92c9e02   \n",
       "10758331  838a8fa992a4aa2fb5a0cf8b15b63755  ca01dc197a71c28a4598aa73e7fa2935   \n",
       "\n",
       "                                subsidiary    transaction_date  \\\n",
       "0         fb502e2ca32fb79609ca7514d41c02cd 2021-09-12 18:07:10   \n",
       "1         9dbcf12729217f1027caf6b1e7eb5728 2021-09-12 18:06:56   \n",
       "2         e3936fe59f0f400afa47802c0f4c2ba2 2021-09-12 18:06:37   \n",
       "3         40d92864e9f2bfb038a41804045cd700 2021-09-12 18:07:19   \n",
       "4         66c09ecb6efbff04e80f3f491801e371 2021-09-12 18:06:23   \n",
       "...                                    ...                 ...   \n",
       "10758327  6cdb6692859b081ae1d3d4545704a2eb 2021-11-30 11:09:55   \n",
       "10758328  97cd34132a4ca71d06ea4f1f67d2b1f9 2021-11-30 15:50:53   \n",
       "10758329  a872f515f65d80bfd899b350054dd457 2021-11-30 14:13:41   \n",
       "10758330  a492a94a8178125678ea68bbc5d3ee53 2021-11-30 15:08:41   \n",
       "10758331  111327742fda2c000703f6344eeced78 2021-11-30 12:37:30   \n",
       "\n",
       "                            account_number                           user_id  \\\n",
       "0         cc18c62a51b048ebf7e11ef8994c1ff3  d796d6838f4874508d5a7d1fd6fef607   \n",
       "1         d8e0d4c8125577f5a3633dd6af140eaa  eb4464242fe2bb9b7fbf6d3d38474c1e   \n",
       "2         d0d42a4eeb347c6492ef981985a47732  cbcf418306db3db0486c359b0f5b7ffa   \n",
       "3         0863565298fcac1cde864beac71480c3  1053091431afaccf776a6aa7da47937f   \n",
       "4         c5aaf5485c512e5b76bf6be7d736e9d0  ce1c4d09bf3df578d3b48ecc23cd201d   \n",
       "...                                    ...                               ...   \n",
       "10758327  29fafc056c517c614ee0dd9a93f3bb28  8873621e306643ce037d16242933e70b   \n",
       "10758328  bc1dffb06909d65a9425129db77bf020  2fbe8b4e11b5477f8b8a4e64d2cedea8   \n",
       "10758329  d7768104183b80a31919012e1e48e412  257200e80942edf1888a93ead4125dcb   \n",
       "10758330  a1f2f2049df145c8380830a31f1e2197  2fb05d8d81622621e9a20ff8a73c825f   \n",
       "10758331  933c2ab64504126d2887f79701d83048  746b25b44511406aa20e281b2999bc98   \n",
       "\n",
       "          transaction_amount transaction_type  hora  dia  dia_sem  mes  year  \n",
       "0                    59.4446          CREDITO    18   12  Domingo    9  2021  \n",
       "1                    23.7778          CREDITO    18   12  Domingo    9  2021  \n",
       "2                    35.6667          CREDITO    18   12  Domingo    9  2021  \n",
       "3                    10.7000          CREDITO    18   12  Domingo    9  2021  \n",
       "4                    59.4446          CREDITO    18   12  Domingo    9  2021  \n",
       "...                      ...              ...   ...  ...      ...  ...   ...  \n",
       "10758327             50.5279          CREDITO    11   30   Martes   11  2021  \n",
       "10758328             19.0223          CREDITO    15   30   Martes   11  2021  \n",
       "10758329              5.9445          CREDITO    14   30   Martes   11  2021  \n",
       "10758330             11.8889          CREDITO    15   30   Martes   11  2021  \n",
       "10758331            358.4506          CREDITO    12   30   Martes   11  2021  \n",
       "\n",
       "[10758332 rows x 13 columns]"
      ]
     },
     "execution_count": 42,
     "metadata": {},
     "output_type": "execute_result"
    }
   ],
   "source": [
    "base_fin"
   ]
  },
  {
   "cell_type": "code",
   "execution_count": 43,
   "metadata": {},
   "outputs": [],
   "source": [
    "base_fin['sec']=base_fin.sort_values(by=['subsidiary','account_number','transaction_date'], ascending=True).\\\n",
    "                     groupby(['subsidiary','account_number','user_id',pd.Grouper(key='transaction_date',freq='24h')]).cumcount()+1"
   ]
  },
  {
   "cell_type": "code",
   "execution_count": 44,
   "metadata": {},
   "outputs": [],
   "source": [
    "base_fin['mnt_real']=base_fin.groupby(['subsidiary','account_number', pd.Grouper(key='transaction_date',freq='24h')])['transaction_amount'].transform('sum')"
   ]
  },
  {
   "cell_type": "code",
   "execution_count": 45,
   "metadata": {},
   "outputs": [],
   "source": [
    "base_fin['fraccionamientos']=base_fin.groupby(['subsidiary','account_number', pd.Grouper(key='transaction_date',freq='24h')])['transaction_date'].transform('count')"
   ]
  },
  {
   "cell_type": "code",
   "execution_count": 47,
   "metadata": {},
   "outputs": [],
   "source": [
    "base_fin['cant_month_tran']=base_fin.groupby(['subsidiary','account_number','user_id'])['mes'].transform('nunique')"
   ]
  },
  {
   "cell_type": "code",
   "execution_count": 48,
   "metadata": {},
   "outputs": [],
   "source": [
    "base_fin['trans_mes']=base_fin.groupby(['subsidiary','account_number','user_id','mes'])['transaction_amount'].transform('mean')"
   ]
  },
  {
   "cell_type": "markdown",
   "metadata": {},
   "source": [
    "Se condiciona que si es mayor a 1 transacción por el mismo corresponsal y cuenta del cliente, se asume que podría ser fraude. 1: fraude 0: No fraude"
   ]
  },
  {
   "cell_type": "code",
   "execution_count": 49,
   "metadata": {},
   "outputs": [],
   "source": [
    "base_fin['fraude']=base_fin['fraccionamientos'].apply(lambda x: 0 if x==1 else 1)"
   ]
  },
  {
   "cell_type": "code",
   "execution_count": 50,
   "metadata": {},
   "outputs": [],
   "source": [
    "base_fin['mto_fracc']=base_fin['transaction_amount']/base_fin['mnt_real']"
   ]
  },
  {
   "cell_type": "code",
   "execution_count": 51,
   "metadata": {
    "scrolled": true
   },
   "outputs": [
    {
     "data": {
      "text/html": [
       "<div>\n",
       "<style scoped>\n",
       "    .dataframe tbody tr th:only-of-type {\n",
       "        vertical-align: middle;\n",
       "    }\n",
       "\n",
       "    .dataframe tbody tr th {\n",
       "        vertical-align: top;\n",
       "    }\n",
       "\n",
       "    .dataframe thead th {\n",
       "        text-align: right;\n",
       "    }\n",
       "</style>\n",
       "<table border=\"1\" class=\"dataframe\">\n",
       "  <thead>\n",
       "    <tr style=\"text-align: right;\">\n",
       "      <th></th>\n",
       "      <th>merchant_id</th>\n",
       "      <th>_id</th>\n",
       "      <th>subsidiary</th>\n",
       "      <th>transaction_date</th>\n",
       "      <th>account_number</th>\n",
       "      <th>user_id</th>\n",
       "      <th>transaction_amount</th>\n",
       "      <th>transaction_type</th>\n",
       "      <th>hora</th>\n",
       "      <th>dia</th>\n",
       "      <th>dia_sem</th>\n",
       "      <th>mes</th>\n",
       "      <th>year</th>\n",
       "      <th>sec</th>\n",
       "      <th>mnt_real</th>\n",
       "      <th>fraccionamientos</th>\n",
       "      <th>cant_month_tran</th>\n",
       "      <th>trans_mes</th>\n",
       "      <th>fraude</th>\n",
       "      <th>mto_fracc</th>\n",
       "    </tr>\n",
       "  </thead>\n",
       "  <tbody>\n",
       "    <tr>\n",
       "      <th>0</th>\n",
       "      <td>075d178871d8d48502bf1f54887e52fe</td>\n",
       "      <td>3aeb98f02b9fbf01cc14f1679b09d5e0</td>\n",
       "      <td>fb502e2ca32fb79609ca7514d41c02cd</td>\n",
       "      <td>2021-09-12 18:07:10</td>\n",
       "      <td>cc18c62a51b048ebf7e11ef8994c1ff3</td>\n",
       "      <td>d796d6838f4874508d5a7d1fd6fef607</td>\n",
       "      <td>59.4446</td>\n",
       "      <td>CREDITO</td>\n",
       "      <td>18</td>\n",
       "      <td>12</td>\n",
       "      <td>Domingo</td>\n",
       "      <td>9</td>\n",
       "      <td>2021</td>\n",
       "      <td>1</td>\n",
       "      <td>59.4446</td>\n",
       "      <td>1</td>\n",
       "      <td>2</td>\n",
       "      <td>59.4446</td>\n",
       "      <td>0</td>\n",
       "      <td>1.0000</td>\n",
       "    </tr>\n",
       "    <tr>\n",
       "      <th>1</th>\n",
       "      <td>075d178871d8d48502bf1f54887e52fe</td>\n",
       "      <td>dce1a8ee2b93dcf25a3ab04a7704004a</td>\n",
       "      <td>9dbcf12729217f1027caf6b1e7eb5728</td>\n",
       "      <td>2021-09-12 18:06:56</td>\n",
       "      <td>d8e0d4c8125577f5a3633dd6af140eaa</td>\n",
       "      <td>eb4464242fe2bb9b7fbf6d3d38474c1e</td>\n",
       "      <td>23.7778</td>\n",
       "      <td>CREDITO</td>\n",
       "      <td>18</td>\n",
       "      <td>12</td>\n",
       "      <td>Domingo</td>\n",
       "      <td>9</td>\n",
       "      <td>2021</td>\n",
       "      <td>1</td>\n",
       "      <td>23.7778</td>\n",
       "      <td>1</td>\n",
       "      <td>2</td>\n",
       "      <td>23.7778</td>\n",
       "      <td>0</td>\n",
       "      <td>1.0000</td>\n",
       "    </tr>\n",
       "    <tr>\n",
       "      <th>2</th>\n",
       "      <td>075d178871d8d48502bf1f54887e52fe</td>\n",
       "      <td>d4a6a637e49e790d5810a4abc5352c53</td>\n",
       "      <td>e3936fe59f0f400afa47802c0f4c2ba2</td>\n",
       "      <td>2021-09-12 18:06:37</td>\n",
       "      <td>d0d42a4eeb347c6492ef981985a47732</td>\n",
       "      <td>cbcf418306db3db0486c359b0f5b7ffa</td>\n",
       "      <td>35.6667</td>\n",
       "      <td>CREDITO</td>\n",
       "      <td>18</td>\n",
       "      <td>12</td>\n",
       "      <td>Domingo</td>\n",
       "      <td>9</td>\n",
       "      <td>2021</td>\n",
       "      <td>1</td>\n",
       "      <td>35.6667</td>\n",
       "      <td>1</td>\n",
       "      <td>4</td>\n",
       "      <td>35.6667</td>\n",
       "      <td>0</td>\n",
       "      <td>1.0000</td>\n",
       "    </tr>\n",
       "    <tr>\n",
       "      <th>3</th>\n",
       "      <td>075d178871d8d48502bf1f54887e52fe</td>\n",
       "      <td>46032962fab1112ffaa63276cc17b19e</td>\n",
       "      <td>40d92864e9f2bfb038a41804045cd700</td>\n",
       "      <td>2021-09-12 18:07:19</td>\n",
       "      <td>0863565298fcac1cde864beac71480c3</td>\n",
       "      <td>1053091431afaccf776a6aa7da47937f</td>\n",
       "      <td>10.7000</td>\n",
       "      <td>CREDITO</td>\n",
       "      <td>18</td>\n",
       "      <td>12</td>\n",
       "      <td>Domingo</td>\n",
       "      <td>9</td>\n",
       "      <td>2021</td>\n",
       "      <td>1</td>\n",
       "      <td>10.7000</td>\n",
       "      <td>1</td>\n",
       "      <td>2</td>\n",
       "      <td>10.7000</td>\n",
       "      <td>0</td>\n",
       "      <td>1.0000</td>\n",
       "    </tr>\n",
       "    <tr>\n",
       "      <th>4</th>\n",
       "      <td>075d178871d8d48502bf1f54887e52fe</td>\n",
       "      <td>4bd76c0db0a932fa5e7194c0eee85fd0</td>\n",
       "      <td>66c09ecb6efbff04e80f3f491801e371</td>\n",
       "      <td>2021-09-12 18:06:23</td>\n",
       "      <td>c5aaf5485c512e5b76bf6be7d736e9d0</td>\n",
       "      <td>ce1c4d09bf3df578d3b48ecc23cd201d</td>\n",
       "      <td>59.4446</td>\n",
       "      <td>CREDITO</td>\n",
       "      <td>18</td>\n",
       "      <td>12</td>\n",
       "      <td>Domingo</td>\n",
       "      <td>9</td>\n",
       "      <td>2021</td>\n",
       "      <td>1</td>\n",
       "      <td>59.4446</td>\n",
       "      <td>1</td>\n",
       "      <td>1</td>\n",
       "      <td>59.4446</td>\n",
       "      <td>0</td>\n",
       "      <td>1.0000</td>\n",
       "    </tr>\n",
       "    <tr>\n",
       "      <th>...</th>\n",
       "      <td>...</td>\n",
       "      <td>...</td>\n",
       "      <td>...</td>\n",
       "      <td>...</td>\n",
       "      <td>...</td>\n",
       "      <td>...</td>\n",
       "      <td>...</td>\n",
       "      <td>...</td>\n",
       "      <td>...</td>\n",
       "      <td>...</td>\n",
       "      <td>...</td>\n",
       "      <td>...</td>\n",
       "      <td>...</td>\n",
       "      <td>...</td>\n",
       "      <td>...</td>\n",
       "      <td>...</td>\n",
       "      <td>...</td>\n",
       "      <td>...</td>\n",
       "      <td>...</td>\n",
       "      <td>...</td>\n",
       "    </tr>\n",
       "    <tr>\n",
       "      <th>10758327</th>\n",
       "      <td>838a8fa992a4aa2fb5a0cf8b15b63755</td>\n",
       "      <td>3d48771f71045de6b05be3efb324da69</td>\n",
       "      <td>6cdb6692859b081ae1d3d4545704a2eb</td>\n",
       "      <td>2021-11-30 11:09:55</td>\n",
       "      <td>29fafc056c517c614ee0dd9a93f3bb28</td>\n",
       "      <td>8873621e306643ce037d16242933e70b</td>\n",
       "      <td>50.5279</td>\n",
       "      <td>CREDITO</td>\n",
       "      <td>11</td>\n",
       "      <td>30</td>\n",
       "      <td>Martes</td>\n",
       "      <td>11</td>\n",
       "      <td>2021</td>\n",
       "      <td>1</td>\n",
       "      <td>50.5279</td>\n",
       "      <td>1</td>\n",
       "      <td>1</td>\n",
       "      <td>50.5279</td>\n",
       "      <td>0</td>\n",
       "      <td>1.0000</td>\n",
       "    </tr>\n",
       "    <tr>\n",
       "      <th>10758328</th>\n",
       "      <td>838a8fa992a4aa2fb5a0cf8b15b63755</td>\n",
       "      <td>324e4ad6686b4ad712ba0684325d0785</td>\n",
       "      <td>97cd34132a4ca71d06ea4f1f67d2b1f9</td>\n",
       "      <td>2021-11-30 15:50:53</td>\n",
       "      <td>bc1dffb06909d65a9425129db77bf020</td>\n",
       "      <td>2fbe8b4e11b5477f8b8a4e64d2cedea8</td>\n",
       "      <td>19.0223</td>\n",
       "      <td>CREDITO</td>\n",
       "      <td>15</td>\n",
       "      <td>30</td>\n",
       "      <td>Martes</td>\n",
       "      <td>11</td>\n",
       "      <td>2021</td>\n",
       "      <td>1</td>\n",
       "      <td>19.0223</td>\n",
       "      <td>1</td>\n",
       "      <td>1</td>\n",
       "      <td>19.0223</td>\n",
       "      <td>0</td>\n",
       "      <td>1.0000</td>\n",
       "    </tr>\n",
       "    <tr>\n",
       "      <th>10758329</th>\n",
       "      <td>838a8fa992a4aa2fb5a0cf8b15b63755</td>\n",
       "      <td>63ad83d5ca20d4a7840c6b437e22972c</td>\n",
       "      <td>a872f515f65d80bfd899b350054dd457</td>\n",
       "      <td>2021-11-30 14:13:41</td>\n",
       "      <td>d7768104183b80a31919012e1e48e412</td>\n",
       "      <td>257200e80942edf1888a93ead4125dcb</td>\n",
       "      <td>5.9445</td>\n",
       "      <td>CREDITO</td>\n",
       "      <td>14</td>\n",
       "      <td>30</td>\n",
       "      <td>Martes</td>\n",
       "      <td>11</td>\n",
       "      <td>2021</td>\n",
       "      <td>1</td>\n",
       "      <td>5.9445</td>\n",
       "      <td>1</td>\n",
       "      <td>1</td>\n",
       "      <td>5.9445</td>\n",
       "      <td>0</td>\n",
       "      <td>1.0000</td>\n",
       "    </tr>\n",
       "    <tr>\n",
       "      <th>10758330</th>\n",
       "      <td>838a8fa992a4aa2fb5a0cf8b15b63755</td>\n",
       "      <td>f73f9e553f3b272ea7fdc71ab92c9e02</td>\n",
       "      <td>a492a94a8178125678ea68bbc5d3ee53</td>\n",
       "      <td>2021-11-30 15:08:41</td>\n",
       "      <td>a1f2f2049df145c8380830a31f1e2197</td>\n",
       "      <td>2fb05d8d81622621e9a20ff8a73c825f</td>\n",
       "      <td>11.8889</td>\n",
       "      <td>CREDITO</td>\n",
       "      <td>15</td>\n",
       "      <td>30</td>\n",
       "      <td>Martes</td>\n",
       "      <td>11</td>\n",
       "      <td>2021</td>\n",
       "      <td>1</td>\n",
       "      <td>11.8889</td>\n",
       "      <td>1</td>\n",
       "      <td>1</td>\n",
       "      <td>11.8889</td>\n",
       "      <td>0</td>\n",
       "      <td>1.0000</td>\n",
       "    </tr>\n",
       "    <tr>\n",
       "      <th>10758331</th>\n",
       "      <td>838a8fa992a4aa2fb5a0cf8b15b63755</td>\n",
       "      <td>ca01dc197a71c28a4598aa73e7fa2935</td>\n",
       "      <td>111327742fda2c000703f6344eeced78</td>\n",
       "      <td>2021-11-30 12:37:30</td>\n",
       "      <td>933c2ab64504126d2887f79701d83048</td>\n",
       "      <td>746b25b44511406aa20e281b2999bc98</td>\n",
       "      <td>358.4506</td>\n",
       "      <td>CREDITO</td>\n",
       "      <td>12</td>\n",
       "      <td>30</td>\n",
       "      <td>Martes</td>\n",
       "      <td>11</td>\n",
       "      <td>2021</td>\n",
       "      <td>1</td>\n",
       "      <td>358.4506</td>\n",
       "      <td>1</td>\n",
       "      <td>1</td>\n",
       "      <td>358.4506</td>\n",
       "      <td>0</td>\n",
       "      <td>1.0000</td>\n",
       "    </tr>\n",
       "  </tbody>\n",
       "</table>\n",
       "<p>10758332 rows × 20 columns</p>\n",
       "</div>"
      ],
      "text/plain": [
       "                               merchant_id                               _id  \\\n",
       "0         075d178871d8d48502bf1f54887e52fe  3aeb98f02b9fbf01cc14f1679b09d5e0   \n",
       "1         075d178871d8d48502bf1f54887e52fe  dce1a8ee2b93dcf25a3ab04a7704004a   \n",
       "2         075d178871d8d48502bf1f54887e52fe  d4a6a637e49e790d5810a4abc5352c53   \n",
       "3         075d178871d8d48502bf1f54887e52fe  46032962fab1112ffaa63276cc17b19e   \n",
       "4         075d178871d8d48502bf1f54887e52fe  4bd76c0db0a932fa5e7194c0eee85fd0   \n",
       "...                                    ...                               ...   \n",
       "10758327  838a8fa992a4aa2fb5a0cf8b15b63755  3d48771f71045de6b05be3efb324da69   \n",
       "10758328  838a8fa992a4aa2fb5a0cf8b15b63755  324e4ad6686b4ad712ba0684325d0785   \n",
       "10758329  838a8fa992a4aa2fb5a0cf8b15b63755  63ad83d5ca20d4a7840c6b437e22972c   \n",
       "10758330  838a8fa992a4aa2fb5a0cf8b15b63755  f73f9e553f3b272ea7fdc71ab92c9e02   \n",
       "10758331  838a8fa992a4aa2fb5a0cf8b15b63755  ca01dc197a71c28a4598aa73e7fa2935   \n",
       "\n",
       "                                subsidiary    transaction_date  \\\n",
       "0         fb502e2ca32fb79609ca7514d41c02cd 2021-09-12 18:07:10   \n",
       "1         9dbcf12729217f1027caf6b1e7eb5728 2021-09-12 18:06:56   \n",
       "2         e3936fe59f0f400afa47802c0f4c2ba2 2021-09-12 18:06:37   \n",
       "3         40d92864e9f2bfb038a41804045cd700 2021-09-12 18:07:19   \n",
       "4         66c09ecb6efbff04e80f3f491801e371 2021-09-12 18:06:23   \n",
       "...                                    ...                 ...   \n",
       "10758327  6cdb6692859b081ae1d3d4545704a2eb 2021-11-30 11:09:55   \n",
       "10758328  97cd34132a4ca71d06ea4f1f67d2b1f9 2021-11-30 15:50:53   \n",
       "10758329  a872f515f65d80bfd899b350054dd457 2021-11-30 14:13:41   \n",
       "10758330  a492a94a8178125678ea68bbc5d3ee53 2021-11-30 15:08:41   \n",
       "10758331  111327742fda2c000703f6344eeced78 2021-11-30 12:37:30   \n",
       "\n",
       "                            account_number                           user_id  \\\n",
       "0         cc18c62a51b048ebf7e11ef8994c1ff3  d796d6838f4874508d5a7d1fd6fef607   \n",
       "1         d8e0d4c8125577f5a3633dd6af140eaa  eb4464242fe2bb9b7fbf6d3d38474c1e   \n",
       "2         d0d42a4eeb347c6492ef981985a47732  cbcf418306db3db0486c359b0f5b7ffa   \n",
       "3         0863565298fcac1cde864beac71480c3  1053091431afaccf776a6aa7da47937f   \n",
       "4         c5aaf5485c512e5b76bf6be7d736e9d0  ce1c4d09bf3df578d3b48ecc23cd201d   \n",
       "...                                    ...                               ...   \n",
       "10758327  29fafc056c517c614ee0dd9a93f3bb28  8873621e306643ce037d16242933e70b   \n",
       "10758328  bc1dffb06909d65a9425129db77bf020  2fbe8b4e11b5477f8b8a4e64d2cedea8   \n",
       "10758329  d7768104183b80a31919012e1e48e412  257200e80942edf1888a93ead4125dcb   \n",
       "10758330  a1f2f2049df145c8380830a31f1e2197  2fb05d8d81622621e9a20ff8a73c825f   \n",
       "10758331  933c2ab64504126d2887f79701d83048  746b25b44511406aa20e281b2999bc98   \n",
       "\n",
       "          transaction_amount transaction_type  hora  dia  dia_sem  mes  year  \\\n",
       "0                    59.4446          CREDITO    18   12  Domingo    9  2021   \n",
       "1                    23.7778          CREDITO    18   12  Domingo    9  2021   \n",
       "2                    35.6667          CREDITO    18   12  Domingo    9  2021   \n",
       "3                    10.7000          CREDITO    18   12  Domingo    9  2021   \n",
       "4                    59.4446          CREDITO    18   12  Domingo    9  2021   \n",
       "...                      ...              ...   ...  ...      ...  ...   ...   \n",
       "10758327             50.5279          CREDITO    11   30   Martes   11  2021   \n",
       "10758328             19.0223          CREDITO    15   30   Martes   11  2021   \n",
       "10758329              5.9445          CREDITO    14   30   Martes   11  2021   \n",
       "10758330             11.8889          CREDITO    15   30   Martes   11  2021   \n",
       "10758331            358.4506          CREDITO    12   30   Martes   11  2021   \n",
       "\n",
       "          sec  mnt_real  fraccionamientos  cant_month_tran  trans_mes  fraude  \\\n",
       "0           1   59.4446                 1                2    59.4446       0   \n",
       "1           1   23.7778                 1                2    23.7778       0   \n",
       "2           1   35.6667                 1                4    35.6667       0   \n",
       "3           1   10.7000                 1                2    10.7000       0   \n",
       "4           1   59.4446                 1                1    59.4446       0   \n",
       "...       ...       ...               ...              ...        ...     ...   \n",
       "10758327    1   50.5279                 1                1    50.5279       0   \n",
       "10758328    1   19.0223                 1                1    19.0223       0   \n",
       "10758329    1    5.9445                 1                1     5.9445       0   \n",
       "10758330    1   11.8889                 1                1    11.8889       0   \n",
       "10758331    1  358.4506                 1                1   358.4506       0   \n",
       "\n",
       "          mto_fracc  \n",
       "0            1.0000  \n",
       "1            1.0000  \n",
       "2            1.0000  \n",
       "3            1.0000  \n",
       "4            1.0000  \n",
       "...             ...  \n",
       "10758327     1.0000  \n",
       "10758328     1.0000  \n",
       "10758329     1.0000  \n",
       "10758330     1.0000  \n",
       "10758331     1.0000  \n",
       "\n",
       "[10758332 rows x 20 columns]"
      ]
     },
     "execution_count": 51,
     "metadata": {},
     "output_type": "execute_result"
    }
   ],
   "source": [
    "base_fin"
   ]
  },
  {
   "cell_type": "code",
   "execution_count": 52,
   "metadata": {},
   "outputs": [
    {
     "data": {
      "text/html": [
       "<div>\n",
       "<style scoped>\n",
       "    .dataframe tbody tr th:only-of-type {\n",
       "        vertical-align: middle;\n",
       "    }\n",
       "\n",
       "    .dataframe tbody tr th {\n",
       "        vertical-align: top;\n",
       "    }\n",
       "\n",
       "    .dataframe thead th {\n",
       "        text-align: right;\n",
       "    }\n",
       "</style>\n",
       "<table border=\"1\" class=\"dataframe\">\n",
       "  <thead>\n",
       "    <tr style=\"text-align: right;\">\n",
       "      <th></th>\n",
       "      <th>merchant_id</th>\n",
       "      <th>_id</th>\n",
       "      <th>subsidiary</th>\n",
       "      <th>transaction_date</th>\n",
       "      <th>account_number</th>\n",
       "      <th>user_id</th>\n",
       "      <th>transaction_amount</th>\n",
       "      <th>transaction_type</th>\n",
       "      <th>hora</th>\n",
       "      <th>dia</th>\n",
       "      <th>dia_sem</th>\n",
       "      <th>mes</th>\n",
       "      <th>year</th>\n",
       "      <th>sec</th>\n",
       "      <th>mnt_real</th>\n",
       "      <th>fraccionamientos</th>\n",
       "      <th>cant_month_tran</th>\n",
       "      <th>trans_mes</th>\n",
       "      <th>fraude</th>\n",
       "      <th>mto_fracc</th>\n",
       "    </tr>\n",
       "  </thead>\n",
       "  <tbody>\n",
       "    <tr>\n",
       "      <th>9143381</th>\n",
       "      <td>838a8fa992a4aa2fb5a0cf8b15b63755</td>\n",
       "      <td>48b75e81ea5aef537b07082e4ebff7c0</td>\n",
       "      <td>f54e0b6b32831a6307361ed959903e76</td>\n",
       "      <td>2021-02-03 14:21:54</td>\n",
       "      <td>aa560f02e10a63202228dcff6341e189</td>\n",
       "      <td>789c59c87fee33218ac916dbece2ed4e</td>\n",
       "      <td>5.9445</td>\n",
       "      <td>DEBITO</td>\n",
       "      <td>14</td>\n",
       "      <td>3</td>\n",
       "      <td>Miércoles</td>\n",
       "      <td>2</td>\n",
       "      <td>2021</td>\n",
       "      <td>92</td>\n",
       "      <td>1188.8910</td>\n",
       "      <td>200</td>\n",
       "      <td>2</td>\n",
       "      <td>5.9644</td>\n",
       "      <td>1</td>\n",
       "      <td>0.0050</td>\n",
       "    </tr>\n",
       "    <tr>\n",
       "      <th>9837022</th>\n",
       "      <td>838a8fa992a4aa2fb5a0cf8b15b63755</td>\n",
       "      <td>b0bec92ecadb4a883e32f56314f114e7</td>\n",
       "      <td>f54e0b6b32831a6307361ed959903e76</td>\n",
       "      <td>2021-02-08 16:34:34</td>\n",
       "      <td>fc451c5e1737cf9d60fc983db47ff491</td>\n",
       "      <td>7d046dfeb0ae6ebf51f3354a627a9a51</td>\n",
       "      <td>17.8334</td>\n",
       "      <td>DEBITO</td>\n",
       "      <td>16</td>\n",
       "      <td>8</td>\n",
       "      <td>Lunes</td>\n",
       "      <td>2</td>\n",
       "      <td>2021</td>\n",
       "      <td>114</td>\n",
       "      <td>1807.1143</td>\n",
       "      <td>200</td>\n",
       "      <td>1</td>\n",
       "      <td>9.0356</td>\n",
       "      <td>1</td>\n",
       "      <td>0.0099</td>\n",
       "    </tr>\n",
       "    <tr>\n",
       "      <th>9837034</th>\n",
       "      <td>838a8fa992a4aa2fb5a0cf8b15b63755</td>\n",
       "      <td>6f93e21d153525b635638300a348093c</td>\n",
       "      <td>f54e0b6b32831a6307361ed959903e76</td>\n",
       "      <td>2021-02-08 20:29:29</td>\n",
       "      <td>fc451c5e1737cf9d60fc983db47ff491</td>\n",
       "      <td>7d046dfeb0ae6ebf51f3354a627a9a51</td>\n",
       "      <td>5.9445</td>\n",
       "      <td>DEBITO</td>\n",
       "      <td>20</td>\n",
       "      <td>8</td>\n",
       "      <td>Lunes</td>\n",
       "      <td>2</td>\n",
       "      <td>2021</td>\n",
       "      <td>183</td>\n",
       "      <td>1807.1143</td>\n",
       "      <td>200</td>\n",
       "      <td>1</td>\n",
       "      <td>9.0356</td>\n",
       "      <td>1</td>\n",
       "      <td>0.0033</td>\n",
       "    </tr>\n",
       "    <tr>\n",
       "      <th>9837033</th>\n",
       "      <td>838a8fa992a4aa2fb5a0cf8b15b63755</td>\n",
       "      <td>4ee9febf44051a2f3296810f571819a3</td>\n",
       "      <td>f54e0b6b32831a6307361ed959903e76</td>\n",
       "      <td>2021-02-08 15:37:30</td>\n",
       "      <td>fc451c5e1737cf9d60fc983db47ff491</td>\n",
       "      <td>7d046dfeb0ae6ebf51f3354a627a9a51</td>\n",
       "      <td>17.8334</td>\n",
       "      <td>DEBITO</td>\n",
       "      <td>15</td>\n",
       "      <td>8</td>\n",
       "      <td>Lunes</td>\n",
       "      <td>2</td>\n",
       "      <td>2021</td>\n",
       "      <td>91</td>\n",
       "      <td>1807.1143</td>\n",
       "      <td>200</td>\n",
       "      <td>1</td>\n",
       "      <td>9.0356</td>\n",
       "      <td>1</td>\n",
       "      <td>0.0099</td>\n",
       "    </tr>\n",
       "    <tr>\n",
       "      <th>9837032</th>\n",
       "      <td>838a8fa992a4aa2fb5a0cf8b15b63755</td>\n",
       "      <td>84722da438bf38b212c2f5dfda78ce23</td>\n",
       "      <td>f54e0b6b32831a6307361ed959903e76</td>\n",
       "      <td>2021-02-08 18:51:51</td>\n",
       "      <td>fc451c5e1737cf9d60fc983db47ff491</td>\n",
       "      <td>7d046dfeb0ae6ebf51f3354a627a9a51</td>\n",
       "      <td>5.9445</td>\n",
       "      <td>DEBITO</td>\n",
       "      <td>18</td>\n",
       "      <td>8</td>\n",
       "      <td>Lunes</td>\n",
       "      <td>2</td>\n",
       "      <td>2021</td>\n",
       "      <td>153</td>\n",
       "      <td>1807.1143</td>\n",
       "      <td>200</td>\n",
       "      <td>1</td>\n",
       "      <td>9.0356</td>\n",
       "      <td>1</td>\n",
       "      <td>0.0033</td>\n",
       "    </tr>\n",
       "    <tr>\n",
       "      <th>9837031</th>\n",
       "      <td>838a8fa992a4aa2fb5a0cf8b15b63755</td>\n",
       "      <td>0de127c1af25fca9796bc6fda361b708</td>\n",
       "      <td>f54e0b6b32831a6307361ed959903e76</td>\n",
       "      <td>2021-02-08 13:23:49</td>\n",
       "      <td>fc451c5e1737cf9d60fc983db47ff491</td>\n",
       "      <td>7d046dfeb0ae6ebf51f3354a627a9a51</td>\n",
       "      <td>5.9445</td>\n",
       "      <td>DEBITO</td>\n",
       "      <td>13</td>\n",
       "      <td>8</td>\n",
       "      <td>Lunes</td>\n",
       "      <td>2</td>\n",
       "      <td>2021</td>\n",
       "      <td>76</td>\n",
       "      <td>1807.1143</td>\n",
       "      <td>200</td>\n",
       "      <td>1</td>\n",
       "      <td>9.0356</td>\n",
       "      <td>1</td>\n",
       "      <td>0.0033</td>\n",
       "    </tr>\n",
       "    <tr>\n",
       "      <th>9837030</th>\n",
       "      <td>838a8fa992a4aa2fb5a0cf8b15b63755</td>\n",
       "      <td>de9d803b71529632be35a0c7a374a4d7</td>\n",
       "      <td>f54e0b6b32831a6307361ed959903e76</td>\n",
       "      <td>2021-02-08 18:02:23</td>\n",
       "      <td>fc451c5e1737cf9d60fc983db47ff491</td>\n",
       "      <td>7d046dfeb0ae6ebf51f3354a627a9a51</td>\n",
       "      <td>17.8334</td>\n",
       "      <td>DEBITO</td>\n",
       "      <td>18</td>\n",
       "      <td>8</td>\n",
       "      <td>Lunes</td>\n",
       "      <td>2</td>\n",
       "      <td>2021</td>\n",
       "      <td>133</td>\n",
       "      <td>1807.1143</td>\n",
       "      <td>200</td>\n",
       "      <td>1</td>\n",
       "      <td>9.0356</td>\n",
       "      <td>1</td>\n",
       "      <td>0.0099</td>\n",
       "    </tr>\n",
       "    <tr>\n",
       "      <th>9837029</th>\n",
       "      <td>838a8fa992a4aa2fb5a0cf8b15b63755</td>\n",
       "      <td>b61172362b26a9de5b332a43344d1830</td>\n",
       "      <td>f54e0b6b32831a6307361ed959903e76</td>\n",
       "      <td>2021-02-08 20:28:02</td>\n",
       "      <td>fc451c5e1737cf9d60fc983db47ff491</td>\n",
       "      <td>7d046dfeb0ae6ebf51f3354a627a9a51</td>\n",
       "      <td>5.9445</td>\n",
       "      <td>DEBITO</td>\n",
       "      <td>20</td>\n",
       "      <td>8</td>\n",
       "      <td>Lunes</td>\n",
       "      <td>2</td>\n",
       "      <td>2021</td>\n",
       "      <td>182</td>\n",
       "      <td>1807.1143</td>\n",
       "      <td>200</td>\n",
       "      <td>1</td>\n",
       "      <td>9.0356</td>\n",
       "      <td>1</td>\n",
       "      <td>0.0033</td>\n",
       "    </tr>\n",
       "    <tr>\n",
       "      <th>9837028</th>\n",
       "      <td>838a8fa992a4aa2fb5a0cf8b15b63755</td>\n",
       "      <td>2954bf884c68335f07c818c436a2b7db</td>\n",
       "      <td>f54e0b6b32831a6307361ed959903e76</td>\n",
       "      <td>2021-02-08 13:19:18</td>\n",
       "      <td>fc451c5e1737cf9d60fc983db47ff491</td>\n",
       "      <td>7d046dfeb0ae6ebf51f3354a627a9a51</td>\n",
       "      <td>17.8334</td>\n",
       "      <td>DEBITO</td>\n",
       "      <td>13</td>\n",
       "      <td>8</td>\n",
       "      <td>Lunes</td>\n",
       "      <td>2</td>\n",
       "      <td>2021</td>\n",
       "      <td>75</td>\n",
       "      <td>1807.1143</td>\n",
       "      <td>200</td>\n",
       "      <td>1</td>\n",
       "      <td>9.0356</td>\n",
       "      <td>1</td>\n",
       "      <td>0.0099</td>\n",
       "    </tr>\n",
       "    <tr>\n",
       "      <th>9837027</th>\n",
       "      <td>838a8fa992a4aa2fb5a0cf8b15b63755</td>\n",
       "      <td>68cd15a27d09aa48eba306219b0dfd4f</td>\n",
       "      <td>f54e0b6b32831a6307361ed959903e76</td>\n",
       "      <td>2021-02-08 12:52:31</td>\n",
       "      <td>fc451c5e1737cf9d60fc983db47ff491</td>\n",
       "      <td>7d046dfeb0ae6ebf51f3354a627a9a51</td>\n",
       "      <td>17.8334</td>\n",
       "      <td>DEBITO</td>\n",
       "      <td>12</td>\n",
       "      <td>8</td>\n",
       "      <td>Lunes</td>\n",
       "      <td>2</td>\n",
       "      <td>2021</td>\n",
       "      <td>66</td>\n",
       "      <td>1807.1143</td>\n",
       "      <td>200</td>\n",
       "      <td>1</td>\n",
       "      <td>9.0356</td>\n",
       "      <td>1</td>\n",
       "      <td>0.0099</td>\n",
       "    </tr>\n",
       "  </tbody>\n",
       "</table>\n",
       "</div>"
      ],
      "text/plain": [
       "                              merchant_id                               _id  \\\n",
       "9143381  838a8fa992a4aa2fb5a0cf8b15b63755  48b75e81ea5aef537b07082e4ebff7c0   \n",
       "9837022  838a8fa992a4aa2fb5a0cf8b15b63755  b0bec92ecadb4a883e32f56314f114e7   \n",
       "9837034  838a8fa992a4aa2fb5a0cf8b15b63755  6f93e21d153525b635638300a348093c   \n",
       "9837033  838a8fa992a4aa2fb5a0cf8b15b63755  4ee9febf44051a2f3296810f571819a3   \n",
       "9837032  838a8fa992a4aa2fb5a0cf8b15b63755  84722da438bf38b212c2f5dfda78ce23   \n",
       "9837031  838a8fa992a4aa2fb5a0cf8b15b63755  0de127c1af25fca9796bc6fda361b708   \n",
       "9837030  838a8fa992a4aa2fb5a0cf8b15b63755  de9d803b71529632be35a0c7a374a4d7   \n",
       "9837029  838a8fa992a4aa2fb5a0cf8b15b63755  b61172362b26a9de5b332a43344d1830   \n",
       "9837028  838a8fa992a4aa2fb5a0cf8b15b63755  2954bf884c68335f07c818c436a2b7db   \n",
       "9837027  838a8fa992a4aa2fb5a0cf8b15b63755  68cd15a27d09aa48eba306219b0dfd4f   \n",
       "\n",
       "                               subsidiary    transaction_date  \\\n",
       "9143381  f54e0b6b32831a6307361ed959903e76 2021-02-03 14:21:54   \n",
       "9837022  f54e0b6b32831a6307361ed959903e76 2021-02-08 16:34:34   \n",
       "9837034  f54e0b6b32831a6307361ed959903e76 2021-02-08 20:29:29   \n",
       "9837033  f54e0b6b32831a6307361ed959903e76 2021-02-08 15:37:30   \n",
       "9837032  f54e0b6b32831a6307361ed959903e76 2021-02-08 18:51:51   \n",
       "9837031  f54e0b6b32831a6307361ed959903e76 2021-02-08 13:23:49   \n",
       "9837030  f54e0b6b32831a6307361ed959903e76 2021-02-08 18:02:23   \n",
       "9837029  f54e0b6b32831a6307361ed959903e76 2021-02-08 20:28:02   \n",
       "9837028  f54e0b6b32831a6307361ed959903e76 2021-02-08 13:19:18   \n",
       "9837027  f54e0b6b32831a6307361ed959903e76 2021-02-08 12:52:31   \n",
       "\n",
       "                           account_number                           user_id  \\\n",
       "9143381  aa560f02e10a63202228dcff6341e189  789c59c87fee33218ac916dbece2ed4e   \n",
       "9837022  fc451c5e1737cf9d60fc983db47ff491  7d046dfeb0ae6ebf51f3354a627a9a51   \n",
       "9837034  fc451c5e1737cf9d60fc983db47ff491  7d046dfeb0ae6ebf51f3354a627a9a51   \n",
       "9837033  fc451c5e1737cf9d60fc983db47ff491  7d046dfeb0ae6ebf51f3354a627a9a51   \n",
       "9837032  fc451c5e1737cf9d60fc983db47ff491  7d046dfeb0ae6ebf51f3354a627a9a51   \n",
       "9837031  fc451c5e1737cf9d60fc983db47ff491  7d046dfeb0ae6ebf51f3354a627a9a51   \n",
       "9837030  fc451c5e1737cf9d60fc983db47ff491  7d046dfeb0ae6ebf51f3354a627a9a51   \n",
       "9837029  fc451c5e1737cf9d60fc983db47ff491  7d046dfeb0ae6ebf51f3354a627a9a51   \n",
       "9837028  fc451c5e1737cf9d60fc983db47ff491  7d046dfeb0ae6ebf51f3354a627a9a51   \n",
       "9837027  fc451c5e1737cf9d60fc983db47ff491  7d046dfeb0ae6ebf51f3354a627a9a51   \n",
       "\n",
       "         transaction_amount transaction_type  hora  dia    dia_sem  mes  year  \\\n",
       "9143381              5.9445           DEBITO    14    3  Miércoles    2  2021   \n",
       "9837022             17.8334           DEBITO    16    8      Lunes    2  2021   \n",
       "9837034              5.9445           DEBITO    20    8      Lunes    2  2021   \n",
       "9837033             17.8334           DEBITO    15    8      Lunes    2  2021   \n",
       "9837032              5.9445           DEBITO    18    8      Lunes    2  2021   \n",
       "9837031              5.9445           DEBITO    13    8      Lunes    2  2021   \n",
       "9837030             17.8334           DEBITO    18    8      Lunes    2  2021   \n",
       "9837029              5.9445           DEBITO    20    8      Lunes    2  2021   \n",
       "9837028             17.8334           DEBITO    13    8      Lunes    2  2021   \n",
       "9837027             17.8334           DEBITO    12    8      Lunes    2  2021   \n",
       "\n",
       "         sec  mnt_real  fraccionamientos  cant_month_tran  trans_mes  fraude  \\\n",
       "9143381   92 1188.8910               200                2     5.9644       1   \n",
       "9837022  114 1807.1143               200                1     9.0356       1   \n",
       "9837034  183 1807.1143               200                1     9.0356       1   \n",
       "9837033   91 1807.1143               200                1     9.0356       1   \n",
       "9837032  153 1807.1143               200                1     9.0356       1   \n",
       "9837031   76 1807.1143               200                1     9.0356       1   \n",
       "9837030  133 1807.1143               200                1     9.0356       1   \n",
       "9837029  182 1807.1143               200                1     9.0356       1   \n",
       "9837028   75 1807.1143               200                1     9.0356       1   \n",
       "9837027   66 1807.1143               200                1     9.0356       1   \n",
       "\n",
       "         mto_fracc  \n",
       "9143381     0.0050  \n",
       "9837022     0.0099  \n",
       "9837034     0.0033  \n",
       "9837033     0.0099  \n",
       "9837032     0.0033  \n",
       "9837031     0.0033  \n",
       "9837030     0.0099  \n",
       "9837029     0.0033  \n",
       "9837028     0.0099  \n",
       "9837027     0.0099  "
      ]
     },
     "execution_count": 52,
     "metadata": {},
     "output_type": "execute_result"
    }
   ],
   "source": [
    "base_fin.sort_values(['fraccionamientos'],ascending=False).head(10)\n",
    "#maximos particionamientos"
   ]
  },
  {
   "cell_type": "code",
   "execution_count": 53,
   "metadata": {},
   "outputs": [],
   "source": [
    "#castear fraude como categórico\n",
    "base_fin['fraude']=base_fin['fraude'].astype(int)"
   ]
  },
  {
   "cell_type": "markdown",
   "metadata": {},
   "source": [
    "## 6. Análisis Variable respuesta: Posible Fraude"
   ]
  },
  {
   "cell_type": "code",
   "execution_count": 54,
   "metadata": {},
   "outputs": [
    {
     "data": {
      "text/plain": [
       "count   10758332.0000\n",
       "mean           0.1696\n",
       "std            0.3753\n",
       "min            0.0000\n",
       "25%            0.0000\n",
       "50%            0.0000\n",
       "75%            0.0000\n",
       "max            1.0000\n",
       "Name: fraude, dtype: float64"
      ]
     },
     "execution_count": 54,
     "metadata": {},
     "output_type": "execute_result"
    }
   ],
   "source": [
    "base_fin['fraude'].describe()"
   ]
  },
  {
   "cell_type": "code",
   "execution_count": 55,
   "metadata": {},
   "outputs": [
    {
     "data": {
      "text/plain": [
       "<matplotlib.axes._subplots.AxesSubplot at 0x24484823bc8>"
      ]
     },
     "execution_count": 55,
     "metadata": {},
     "output_type": "execute_result"
    },
    {
     "data": {
      "image/png": "[encoded data removed]",
      "text/plain": [
       "<Figure size 432x288 with 1 Axes>"
      ]
     },
     "metadata": {},
     "output_type": "display_data"
    }
   ],
   "source": [
    "base_fin['fraude'].hist()"
   ]
  },
  {
   "cell_type": "code",
   "execution_count": null,
   "metadata": {},
   "outputs": [],
   "source": [
    "a = sns.FacetGrid(base_fin, hue = 'fraude', aspect=4, palette=\"Set1\" )\n",
    "a.map(sns.kdeplot, 'transaction_amount', shade= True )\n",
    "a.set(xlim=(0 , df['transaction_amount'].quantile(0.98)))\n",
    "a.add_legend()"
   ]
  },
  {
   "cell_type": "markdown",
   "metadata": {},
   "source": [
    "## 7. Transformación de datos"
   ]
  },
  {
   "cell_type": "code",
   "execution_count": 56,
   "metadata": {},
   "outputs": [],
   "source": [
    "df=base_fin.copy()"
   ]
  },
  {
   "cell_type": "markdown",
   "metadata": {},
   "source": [
    "Eliminación de variables que no voy a incluir"
   ]
  },
  {
   "cell_type": "code",
   "execution_count": 57,
   "metadata": {},
   "outputs": [],
   "source": [
    "df.drop(['_id','subsidiary','account_number','user_id','year','mes','transaction_date','mnt_real','dia_sem','trans_mes','mto_fracc','cant_month_tran','fraccionamientos'],axis=1,inplace=True)"
   ]
  },
  {
   "cell_type": "code",
   "execution_count": 58,
   "metadata": {},
   "outputs": [
    {
     "name": "stdout",
     "output_type": "stream",
     "text": [
      "<class 'pandas.core.frame.DataFrame'>\n",
      "RangeIndex: 10758332 entries, 0 to 10758331\n",
      "Data columns (total 7 columns):\n",
      " #   Column              Dtype  \n",
      "---  ------              -----  \n",
      " 0   merchant_id         object \n",
      " 1   transaction_amount  float64\n",
      " 2   transaction_type    object \n",
      " 3   hora                int64  \n",
      " 4   dia                 int64  \n",
      " 5   sec                 int64  \n",
      " 6   fraude              int32  \n",
      "dtypes: float64(1), int32(1), int64(3), object(2)\n",
      "memory usage: 533.5+ MB\n"
     ]
    }
   ],
   "source": [
    "df.info()"
   ]
  },
  {
   "cell_type": "code",
   "execution_count": 59,
   "metadata": {},
   "outputs": [
    {
     "data": {
      "text/plain": [
       "6"
      ]
     },
     "execution_count": 59,
     "metadata": {},
     "output_type": "execute_result"
    }
   ],
   "source": [
    "len((df.drop('fraude', axis = 'columns')).columns)"
   ]
  },
  {
   "cell_type": "markdown",
   "metadata": {},
   "source": [
    "Partición en train y test"
   ]
  },
  {
   "cell_type": "code",
   "execution_count": 60,
   "metadata": {},
   "outputs": [],
   "source": [
    "#70% entrenamiento 30% test\n",
    "X_train, X_test, y_train, y_test = train_test_split(\n",
    "                                        df.drop('fraude', axis = 'columns'),\n",
    "                                        df['fraude'],\n",
    "                                        train_size   = 0.7,\n",
    "                                        random_state = 1234,\n",
    "                                        stratify=df['fraude'],\n",
    "                                        shuffle      = True\n",
    "                                    )"
   ]
  },
  {
   "cell_type": "markdown",
   "metadata": {},
   "source": [
    "#### Corrección de desbalanceos"
   ]
  },
  {
   "cell_type": "code",
   "execution_count": 61,
   "metadata": {},
   "outputs": [
    {
     "data": {
      "text/plain": [
       "0   0.8304\n",
       "1   0.1696\n",
       "Name: fraude, dtype: float64"
      ]
     },
     "execution_count": 61,
     "metadata": {},
     "output_type": "execute_result"
    }
   ],
   "source": [
    "df['fraude'].value_counts(normalize=True)"
   ]
  },
  {
   "cell_type": "markdown",
   "metadata": {},
   "source": [
    "Para aumentar la representación de la clase minoritaria  se hace un oversampling. En este caso, el método consiste en samplear observaciones de la clase minoritaria con reposición."
   ]
  },
  {
   "cell_type": "code",
   "execution_count": 64,
   "metadata": {},
   "outputs": [],
   "source": [
    "oversampler=RandomOverSampler(sampling_strategy='minority');\n",
    "X_train,y_train=oversampler.fit_resample(X_train,y_train);\n",
    "print('Composición del training set:')\n",
    "print(y_train.value_counts())\n",
    "print('\\nComposición del test set:')\n",
    "print(y_test.value_counts())"
   ]
  },
  {
   "cell_type": "markdown",
   "metadata": {},
   "source": [
    "El algoritmo SMOTE (Synthetic Minority Oversample) ofrece otra estrategia de oversampling, generando muestras simuladas de la clase minoritaria."
   ]
  },
  {
   "cell_type": "code",
   "execution_count": 65,
   "metadata": {},
   "outputs": [],
   "source": [
    "sm=SMOTENC(categorical_features=categorical_cols,k_neighbors=5,random_state=0)\n",
    "X_train_sm,y_train_sm=sm.fit_resample(X_train,y_train)"
   ]
  },
  {
   "cell_type": "markdown",
   "metadata": {},
   "source": [
    "##### Escalar Variables y encoder"
   ]
  },
  {
   "cell_type": "markdown",
   "metadata": {},
   "source": [
    "Se crea pipeline de preprocesamiento escalando las variables numéricas y el encoder para las categóricas"
   ]
  },
  {
   "cell_type": "code",
   "execution_count": 66,
   "metadata": {},
   "outputs": [],
   "source": [
    "# Transformaciones para las variables numéricas\n",
    "numeric_transformer = Pipeline(\n",
    "                        steps=[('scaler', StandardScaler())]\n",
    "                      )\n",
    "\n",
    "# Transformaciones para las variables categóricas\n",
    "categorical_transformer = Pipeline(\n",
    "                            steps=[('onehot', OneHotEncoder(handle_unknown='ignore'))]\n",
    "                          )\n",
    "\n",
    "\n",
    "preprocessor = ColumnTransformer(\n",
    "                    transformers=[\n",
    "                        ('numeric', numeric_transformer, make_column_selector(dtype_include=np.number)),\n",
    "                        ('cat', categorical_transformer, make_column_selector(dtype_include='object'))\n",
    "                    ],\n",
    "                    remainder='passthrough'\n",
    "                )"
   ]
  },
  {
   "cell_type": "markdown",
   "metadata": {},
   "source": [
    "Otra forma manual"
   ]
  },
  {
   "cell_type": "code",
   "execution_count": 67,
   "metadata": {},
   "outputs": [],
   "source": [
    "#Otra forma getdummies\n",
    "df_dummies = pd.get_dummies(df,drop_first=True)"
   ]
  },
  {
   "cell_type": "code",
   "execution_count": 68,
   "metadata": {},
   "outputs": [],
   "source": [
    "#70% entrenamiento 30% test\n",
    "X_train2, X_test2, y_train2, y_test2 = train_test_split(\n",
    "                                        df_dummies.drop('fraude', axis = 'columns'),\n",
    "                                        df_dummies['fraude'],\n",
    "                                        train_size   = 0.7,\n",
    "                                        random_state = 1234,\n",
    "                                        stratify=df['fraude'],\n",
    "                                        shuffle      = True\n",
    "                                    )"
   ]
  },
  {
   "cell_type": "code",
   "execution_count": 70,
   "metadata": {},
   "outputs": [],
   "source": [
    "standar_scaler = preprocessing.StandardScaler()\n",
    "\n",
    "x_minmax = standar_scaler.fit_transform(X_train2)\n",
    "X_train2=x_minmax\n",
    "x_minmax1 = standar_scaler.fit_transform(X_test2)\n",
    "X_test2=x_minmax1"
   ]
  },
  {
   "cell_type": "markdown",
   "metadata": {},
   "source": [
    "## 8. Modelos"
   ]
  },
  {
   "cell_type": "markdown",
   "metadata": {},
   "source": [
    "#### Random Forest"
   ]
  },
  {
   "cell_type": "code",
   "execution_count": 71,
   "metadata": {},
   "outputs": [],
   "source": [
    "modeloRf=RandomForestClassifier()"
   ]
  },
  {
   "cell_type": "code",
   "execution_count": 72,
   "metadata": {},
   "outputs": [],
   "source": [
    "pipe_rf = Pipeline([('preprocessing', preprocessor),\n",
    "                 ('modelo', modeloRf)])"
   ]
  },
  {
   "cell_type": "code",
   "execution_count": 73,
   "metadata": {},
   "outputs": [
    {
     "data": {
      "text/plain": [
       "Pipeline(steps=[('preprocessing',\n",
       "                 ColumnTransformer(remainder='passthrough',\n",
       "                                   transformers=[('numeric',\n",
       "                                                  Pipeline(steps=[('scaler',\n",
       "                                                                   StandardScaler())]),\n",
       "                                                  <sklearn.compose._column_transformer.make_column_selector object at 0x0000024484889088>),\n",
       "                                                 ('cat',\n",
       "                                                  Pipeline(steps=[('onehot',\n",
       "                                                                   OneHotEncoder(handle_unknown='ignore'))]),\n",
       "                                                  <sklearn.compose._column_transformer.make_column_selector object at 0x00000244848999C8>)])),\n",
       "                ('modelo', RandomForestClassifier())])"
      ]
     },
     "execution_count": 73,
     "metadata": {},
     "output_type": "execute_result"
    }
   ],
   "source": [
    "pipe_rf.fit(X_train, y_train)"
   ]
  },
  {
   "cell_type": "code",
   "execution_count": 74,
   "metadata": {},
   "outputs": [],
   "source": [
    "y_pred_rf=pipe_rf.predict(X_test)"
   ]
  },
  {
   "cell_type": "code",
   "execution_count": 75,
   "metadata": {},
   "outputs": [
    {
     "name": "stdout",
     "output_type": "stream",
     "text": [
      "              precision    recall  f1-score   support\n",
      "\n",
      "           0       0.94      0.99      0.96   2679959\n",
      "           1       0.91      0.71      0.80    547541\n",
      "\n",
      "    accuracy                           0.94   3227500\n",
      "   macro avg       0.93      0.85      0.88   3227500\n",
      "weighted avg       0.94      0.94      0.94   3227500\n",
      "\n"
     ]
    }
   ],
   "source": [
    "print(classification_report(y_test, y_pred_rf))"
   ]
  },
  {
   "cell_type": "code",
   "execution_count": 123,
   "metadata": {},
   "outputs": [],
   "source": [
    "f1_rf = f1_score(y_test, y_pred_rf)"
   ]
  },
  {
   "cell_type": "code",
   "execution_count": 128,
   "metadata": {},
   "outputs": [],
   "source": [
    "fpr, tpr, _ = roc_curve(y_test, y_pred_rf)\n",
    "roc_auc_rf = auc(fpr, tpr)"
   ]
  },
  {
   "cell_type": "code",
   "execution_count": 77,
   "metadata": {},
   "outputs": [
    {
     "data": {
      "image/png": "[encoded data removed]",
      "text/plain": [
       "<Figure size 432x288 with 1 Axes>"
      ]
     },
     "metadata": {},
     "output_type": "display_data"
    }
   ],
   "source": [
    "plt.plot(fpr, tpr, color='darkorange',\n",
    "         lw=2, label='ROC curve (area = %0.2f)' % roc_auc_rf)\n",
    "plt.plot([0, 1], [0, 1], color='navy', lw=2, linestyle='--')\n",
    "plt.xlim([0.0, 1.0])\n",
    "plt.ylim([0.0, 1.05])\n",
    "plt.xlabel('False Positive Rate')\n",
    "plt.ylabel('True Positive Rate')\n",
    "plt.title('ROC AUC')\n",
    "plt.legend(loc=\"lower right\")\n",
    "plt.show()"
   ]
  },
  {
   "cell_type": "markdown",
   "metadata": {},
   "source": [
    "#### Random Forest con class_weight='balanced_subsample"
   ]
  },
  {
   "cell_type": "code",
   "execution_count": 141,
   "metadata": {},
   "outputs": [],
   "source": [
    "modelorf_2=RandomForestClassifier(class_weight='balanced_subsample')"
   ]
  },
  {
   "cell_type": "code",
   "execution_count": 142,
   "metadata": {},
   "outputs": [],
   "source": [
    "pipe_rf2 = Pipeline([('preprocessing', preprocessor),\n",
    "                 ('modelo', modelorf_2)])"
   ]
  },
  {
   "cell_type": "code",
   "execution_count": 143,
   "metadata": {},
   "outputs": [
    {
     "data": {
      "text/plain": [
       "Pipeline(steps=[('preprocessing',\n",
       "                 ColumnTransformer(remainder='passthrough',\n",
       "                                   transformers=[('numeric',\n",
       "                                                  Pipeline(steps=[('scaler',\n",
       "                                                                   StandardScaler())]),\n",
       "                                                  <sklearn.compose._column_transformer.make_column_selector object at 0x0000024484889088>),\n",
       "                                                 ('cat',\n",
       "                                                  Pipeline(steps=[('onehot',\n",
       "                                                                   OneHotEncoder(handle_unknown='ignore'))]),\n",
       "                                                  <sklearn.compose._column_transformer.make_column_selector object at 0x00000244848999C8>)])),\n",
       "                ('modelo',\n",
       "                 RandomForestClassifier(class_weight='balanced_subsample'))])"
      ]
     },
     "execution_count": 143,
     "metadata": {},
     "output_type": "execute_result"
    }
   ],
   "source": [
    "pipe_rf2.fit(X_train, y_train)"
   ]
  },
  {
   "cell_type": "code",
   "execution_count": 144,
   "metadata": {},
   "outputs": [],
   "source": [
    "y_pred_rf2=pipe_rf2.predict(X_test)"
   ]
  },
  {
   "cell_type": "code",
   "execution_count": 145,
   "metadata": {},
   "outputs": [
    {
     "name": "stdout",
     "output_type": "stream",
     "text": [
      "              precision    recall  f1-score   support\n",
      "\n",
      "           0       0.96      0.94      0.95   2679959\n",
      "           1       0.74      0.82      0.78    547541\n",
      "\n",
      "    accuracy                           0.92   3227500\n",
      "   macro avg       0.85      0.88      0.86   3227500\n",
      "weighted avg       0.92      0.92      0.92   3227500\n",
      "\n"
     ]
    }
   ],
   "source": [
    "print(classification_report(y_test, y_pred_rf2))"
   ]
  },
  {
   "cell_type": "code",
   "execution_count": 146,
   "metadata": {},
   "outputs": [],
   "source": [
    "f1_rf2 = f1_score(y_test, y_pred_rf2)"
   ]
  },
  {
   "cell_type": "code",
   "execution_count": 147,
   "metadata": {},
   "outputs": [],
   "source": [
    "fpr, tpr, _ = roc_curve(y_test, y_pred_rf2)\n",
    "roc_auc_rf2 = auc(fpr, tpr)"
   ]
  },
  {
   "cell_type": "code",
   "execution_count": 148,
   "metadata": {},
   "outputs": [
    {
     "data": {
      "image/png": "[encoded data removed]",
      "text/plain": [
       "<Figure size 432x288 with 1 Axes>"
      ]
     },
     "metadata": {},
     "output_type": "display_data"
    }
   ],
   "source": [
    "plt.plot(fpr, tpr, color='darkorange',\n",
    "         lw=2, label='ROC curve (area = %0.2f)' % roc_auc_rf2)\n",
    "plt.plot([0, 1], [0, 1], color='navy', lw=2, linestyle='--')\n",
    "plt.xlim([0.0, 1.0])\n",
    "plt.ylim([0.0, 1.05])\n",
    "plt.xlabel('False Positive Rate')\n",
    "plt.ylabel('True Positive Rate')\n",
    "plt.title('ROC AUC')\n",
    "plt.legend(loc=\"lower right\")\n",
    "plt.show()"
   ]
  },
  {
   "cell_type": "markdown",
   "metadata": {},
   "source": [
    "#### Regresión logística con seleccion de variables"
   ]
  },
  {
   "cell_type": "markdown",
   "metadata": {},
   "source": [
    "Se hace una regresión logística con selección de variables por el método rfecv y validación cruzada para confirmar que variables optimizan dependiendo del scoring f1."
   ]
  },
  {
   "cell_type": "code",
   "execution_count": 88,
   "metadata": {},
   "outputs": [],
   "source": [
    "modeloRL=LogisticRegression()"
   ]
  },
  {
   "cell_type": "code",
   "execution_count": 89,
   "metadata": {},
   "outputs": [],
   "source": [
    "kf = KFold(n_splits=3, shuffle = True)"
   ]
  },
  {
   "cell_type": "code",
   "execution_count": 90,
   "metadata": {},
   "outputs": [],
   "source": [
    "selector = RFECV(modeloRL, step = 1, cv=kf, scoring = 'f1', verbose=2)"
   ]
  },
  {
   "cell_type": "code",
   "execution_count": 91,
   "metadata": {},
   "outputs": [
    {
     "name": "stdout",
     "output_type": "stream",
     "text": [
      "Fitting estimator with 7 features.\n",
      "Fitting estimator with 6 features.\n",
      "Fitting estimator with 5 features.\n",
      "Fitting estimator with 4 features.\n",
      "Fitting estimator with 3 features.\n",
      "Fitting estimator with 2 features.\n",
      "Fitting estimator with 7 features.\n",
      "Fitting estimator with 6 features.\n",
      "Fitting estimator with 5 features.\n",
      "Fitting estimator with 4 features.\n",
      "Fitting estimator with 3 features.\n",
      "Fitting estimator with 2 features.\n",
      "Fitting estimator with 7 features.\n",
      "Fitting estimator with 6 features.\n",
      "Fitting estimator with 5 features.\n",
      "Fitting estimator with 4 features.\n",
      "Fitting estimator with 3 features.\n",
      "Fitting estimator with 2 features.\n",
      "Fitting estimator with 7 features.\n",
      "Fitting estimator with 6 features.\n",
      "Fitting estimator with 5 features.\n",
      "Fitting estimator with 4 features.\n",
      "Fitting estimator with 3 features.\n",
      "Fitting estimator with 2 features.\n"
     ]
    },
    {
     "data": {
      "text/plain": [
       "RFECV(cv=KFold(n_splits=3, random_state=None, shuffle=True),\n",
       "      estimator=LogisticRegression(), scoring='f1', verbose=2)"
      ]
     },
     "execution_count": 91,
     "metadata": {},
     "output_type": "execute_result"
    }
   ],
   "source": [
    "selector.fit(X_train2, y_train2)"
   ]
  },
  {
   "cell_type": "code",
   "execution_count": 93,
   "metadata": {},
   "outputs": [
    {
     "data": {
      "text/plain": [
       "RFECV(cv=KFold(n_splits=3, random_state=None, shuffle=True),\n",
       "      estimator=LogisticRegression(), scoring='f1', verbose=2)"
      ]
     },
     "execution_count": 93,
     "metadata": {},
     "output_type": "execute_result"
    }
   ],
   "source": [
    "selector"
   ]
  },
  {
   "cell_type": "code",
   "execution_count": 98,
   "metadata": {},
   "outputs": [],
   "source": [
    "y_pred_RL1=selector.predict(X_test2)"
   ]
  },
  {
   "cell_type": "code",
   "execution_count": 99,
   "metadata": {},
   "outputs": [
    {
     "name": "stdout",
     "output_type": "stream",
     "text": [
      "              precision    recall  f1-score   support\n",
      "\n",
      "           0       0.93      1.00      0.96   2679959\n",
      "           1       1.00      0.63      0.77    547541\n",
      "\n",
      "    accuracy                           0.94   3227500\n",
      "   macro avg       0.96      0.82      0.87   3227500\n",
      "weighted avg       0.94      0.94      0.93   3227500\n",
      "\n"
     ]
    }
   ],
   "source": [
    "print(classification_report(y_test, y_pred_RL1))"
   ]
  },
  {
   "cell_type": "code",
   "execution_count": 124,
   "metadata": {},
   "outputs": [],
   "source": [
    "f1_rl1 = f1_score(y_test, y_pred_RL1)"
   ]
  },
  {
   "cell_type": "code",
   "execution_count": null,
   "metadata": {},
   "outputs": [],
   "source": []
  },
  {
   "cell_type": "code",
   "execution_count": 174,
   "metadata": {},
   "outputs": [],
   "source": [
    "fpr, tpr, _ = roc_curve(y_test, y_pred_RL1)\n",
    "roc_auc_rl1 = auc(fpr, tpr)"
   ]
  },
  {
   "cell_type": "code",
   "execution_count": 101,
   "metadata": {},
   "outputs": [
    {
     "data": {
      "image/png": "[encoded data removed]",
      "text/plain": [
       "<Figure size 432x288 with 1 Axes>"
      ]
     },
     "metadata": {},
     "output_type": "display_data"
    }
   ],
   "source": [
    "plt.plot(fpr, tpr, color='darkorange',\n",
    "         lw=2, label='ROC curve (area = %0.2f)' % roc_auc_rl1)\n",
    "plt.plot([0, 1], [0, 1], color='navy', lw=2, linestyle='--')\n",
    "plt.xlim([0.0, 1.0])\n",
    "plt.ylim([0.0, 1.05])\n",
    "plt.xlabel('False Positive Rate')\n",
    "plt.ylabel('True Positive Rate')\n",
    "plt.title('ROC AUC')\n",
    "plt.legend(loc=\"lower right\")\n",
    "plt.show()"
   ]
  },
  {
   "cell_type": "code",
   "execution_count": null,
   "metadata": {},
   "outputs": [],
   "source": []
  },
  {
   "cell_type": "markdown",
   "metadata": {},
   "source": [
    "#### Regresión logística con Class weighting (solucionaria el desbalanceo)"
   ]
  },
  {
   "cell_type": "markdown",
   "metadata": {},
   "source": [
    "Otra técnica que podemos utilizar para corregir el desbalance de los datos es incorporar en la función de costos del algoritmo un mayor peso para los errores de entrenamiento cometidos sobre los puntos de la clase minoritaria. "
   ]
  },
  {
   "cell_type": "code",
   "execution_count": 102,
   "metadata": {},
   "outputs": [],
   "source": [
    "modelcw = LogisticRegressionCV(class_weight = 'balanced')"
   ]
  },
  {
   "cell_type": "code",
   "execution_count": 103,
   "metadata": {},
   "outputs": [],
   "source": [
    "pipe_cw = Pipeline([('preprocessing', preprocessor), \n",
    "                 ('modelo', modelcw)])"
   ]
  },
  {
   "cell_type": "code",
   "execution_count": 104,
   "metadata": {
    "scrolled": true
   },
   "outputs": [
    {
     "data": {
      "text/plain": [
       "Pipeline(steps=[('preprocessing',\n",
       "                 ColumnTransformer(remainder='passthrough',\n",
       "                                   transformers=[('numeric',\n",
       "                                                  Pipeline(steps=[('scaler',\n",
       "                                                                   StandardScaler())]),\n",
       "                                                  <sklearn.compose._column_transformer.make_column_selector object at 0x0000024484889088>),\n",
       "                                                 ('cat',\n",
       "                                                  Pipeline(steps=[('onehot',\n",
       "                                                                   OneHotEncoder(handle_unknown='ignore'))]),\n",
       "                                                  <sklearn.compose._column_transformer.make_column_selector object at 0x00000244848999C8>)])),\n",
       "                ('modelo', LogisticRegressionCV(class_weight='balanced'))])"
      ]
     },
     "execution_count": 104,
     "metadata": {},
     "output_type": "execute_result"
    }
   ],
   "source": [
    "pipe_cw.fit(X_train, y_train)"
   ]
  },
  {
   "cell_type": "code",
   "execution_count": 105,
   "metadata": {},
   "outputs": [],
   "source": [
    "y_pred_cw=pipe_cw.predict(X_test)"
   ]
  },
  {
   "cell_type": "code",
   "execution_count": 106,
   "metadata": {},
   "outputs": [
    {
     "name": "stdout",
     "output_type": "stream",
     "text": [
      "              precision    recall  f1-score   support\n",
      "\n",
      "           0       0.95      0.95      0.95   2679959\n",
      "           1       0.74      0.73      0.74    547541\n",
      "\n",
      "    accuracy                           0.91   3227500\n",
      "   macro avg       0.84      0.84      0.84   3227500\n",
      "weighted avg       0.91      0.91      0.91   3227500\n",
      "\n"
     ]
    }
   ],
   "source": [
    "print(classification_report(y_test, y_pred_cw))"
   ]
  },
  {
   "cell_type": "code",
   "execution_count": 125,
   "metadata": {},
   "outputs": [],
   "source": [
    "f1_cw = f1_score(y_test, y_pred_cw)"
   ]
  },
  {
   "cell_type": "code",
   "execution_count": 176,
   "metadata": {},
   "outputs": [],
   "source": [
    "fpr, tpr, _ = roc_curve(y_test, y_pred_cw)\n",
    "roc_auc_cw = auc(fpr, tpr)"
   ]
  },
  {
   "cell_type": "code",
   "execution_count": 108,
   "metadata": {},
   "outputs": [
    {
     "data": {
      "image/png": "[encoded data removed]",
      "text/plain": [
       "<Figure size 432x288 with 1 Axes>"
      ]
     },
     "metadata": {},
     "output_type": "display_data"
    }
   ],
   "source": [
    "plt.plot(fpr, tpr, color='darkorange',\n",
    "         lw=2, label='ROC curve (area = %0.2f)' % roc_auc_cw)\n",
    "plt.plot([0, 1], [0, 1], color='navy', lw=2, linestyle='--')\n",
    "plt.xlim([0.0, 1.0])\n",
    "plt.ylim([0.0, 1.05])\n",
    "plt.xlabel('False Positive Rate')\n",
    "plt.ylabel('True Positive Rate')\n",
    "plt.title('ROC AUC')\n",
    "plt.legend(loc=\"lower right\")\n",
    "plt.show()"
   ]
  },
  {
   "cell_type": "markdown",
   "metadata": {},
   "source": [
    "#### Xgboost"
   ]
  },
  {
   "cell_type": "code",
   "execution_count": 109,
   "metadata": {},
   "outputs": [],
   "source": [
    "modeloXG=XGBClassifier()"
   ]
  },
  {
   "cell_type": "code",
   "execution_count": 110,
   "metadata": {},
   "outputs": [],
   "source": [
    "pipe_xg = Pipeline([('preprocessing', preprocessor),\n",
    "                 ('modelo', modeloXG)])"
   ]
  },
  {
   "cell_type": "code",
   "execution_count": 111,
   "metadata": {},
   "outputs": [
    {
     "data": {
      "text/plain": [
       "Pipeline(steps=[('preprocessing',\n",
       "                 ColumnTransformer(remainder='passthrough',\n",
       "                                   transformers=[('numeric',\n",
       "                                                  Pipeline(steps=[('scaler',\n",
       "                                                                   StandardScaler())]),\n",
       "                                                  <sklearn.compose._column_transformer.make_column_selector object at 0x0000024484889088>),\n",
       "                                                 ('cat',\n",
       "                                                  Pipeline(steps=[('onehot',\n",
       "                                                                   OneHotEncoder(handle_unknown='ignore'))]),\n",
       "                                                  <sklearn.compose._column_transformer.make_c...\n",
       "                               gamma=0, gpu_id=-1, grow_policy='depthwise',\n",
       "                               importance_type=None, interaction_constraints='',\n",
       "                               learning_rate=0.300000012, max_bin=256,\n",
       "                               max_cat_to_onehot=4, max_delta_step=0,\n",
       "                               max_depth=6, max_leaves=0, min_child_weight=1,\n",
       "                               missing=nan, monotone_constraints='()',\n",
       "                               n_estimators=100, n_jobs=0, num_parallel_tree=1,\n",
       "                               predictor='auto', random_state=0, reg_alpha=0,\n",
       "                               reg_lambda=1, ...))])"
      ]
     },
     "execution_count": 111,
     "metadata": {},
     "output_type": "execute_result"
    }
   ],
   "source": [
    "pipe_xg.fit(X_train, y_train)"
   ]
  },
  {
   "cell_type": "code",
   "execution_count": 112,
   "metadata": {},
   "outputs": [],
   "source": [
    "y_pred_xg=pipe_xg.predict(X_test)"
   ]
  },
  {
   "cell_type": "code",
   "execution_count": 113,
   "metadata": {},
   "outputs": [
    {
     "name": "stdout",
     "output_type": "stream",
     "text": [
      "              precision    recall  f1-score   support\n",
      "\n",
      "           0       0.94      0.99      0.96   2679959\n",
      "           1       0.91      0.71      0.80    547541\n",
      "\n",
      "    accuracy                           0.94   3227500\n",
      "   macro avg       0.93      0.85      0.88   3227500\n",
      "weighted avg       0.94      0.94      0.94   3227500\n",
      "\n"
     ]
    }
   ],
   "source": [
    "print(classification_report(y_test, y_pred_xg))"
   ]
  },
  {
   "cell_type": "code",
   "execution_count": 126,
   "metadata": {},
   "outputs": [],
   "source": [
    "f1_xg = f1_score(y_test, y_pred_xg)"
   ]
  },
  {
   "cell_type": "code",
   "execution_count": 178,
   "metadata": {},
   "outputs": [],
   "source": [
    "fpr, tpr, _ = roc_curve(y_test, y_pred_xg)\n",
    "roc_auc_xg = auc(fpr, tpr)"
   ]
  },
  {
   "cell_type": "code",
   "execution_count": 115,
   "metadata": {},
   "outputs": [
    {
     "data": {
      "image/png": "[encoded data removed]",
      "text/plain": [
       "<Figure size 432x288 with 1 Axes>"
      ]
     },
     "metadata": {},
     "output_type": "display_data"
    }
   ],
   "source": [
    "plt.plot(fpr, tpr, color='darkorange',\n",
    "         lw=2, label='ROC curve (area = %0.2f)' % roc_auc_xg)\n",
    "plt.plot([0, 1], [0, 1], color='navy', lw=2, linestyle='--')\n",
    "plt.xlim([0.0, 1.0])\n",
    "plt.ylim([0.0, 1.05])\n",
    "plt.xlabel('False Positive Rate')\n",
    "plt.ylabel('True Positive Rate')\n",
    "plt.title('ROC AUC')\n",
    "plt.legend(loc=\"lower right\")\n",
    "plt.show()"
   ]
  },
  {
   "cell_type": "markdown",
   "metadata": {},
   "source": [
    "#### Xgboost con hiperparámetros"
   ]
  },
  {
   "cell_type": "code",
   "execution_count": 129,
   "metadata": {},
   "outputs": [],
   "source": [
    "model_xg = XGBClassifier(n_jobs=-1, use_label_encoder=False)"
   ]
  },
  {
   "cell_type": "code",
   "execution_count": 130,
   "metadata": {},
   "outputs": [],
   "source": [
    "cv = StratifiedKFold(n_splits=3, random_state=123, shuffle=True)"
   ]
  },
  {
   "cell_type": "code",
   "execution_count": 131,
   "metadata": {},
   "outputs": [],
   "source": [
    "#parámetros\n",
    "params = {  \n",
    "    \"n_estimators\": [50,100],      # Number of boosted trees to fit.\n",
    "    \"max_depth\": [1,2,3,4],            # Maximum tree depth for base learners.\n",
    "    \"learning_rate\": [0.01, 0.1],      # Boosting learning rate (xgb’s “eta”)\n",
    "}"
   ]
  },
  {
   "cell_type": "code",
   "execution_count": 132,
   "metadata": {},
   "outputs": [],
   "source": [
    "xgb = GridSearchCV(model_xg, param_grid=params, cv=cv, verbose=1, n_jobs=-1,scoring='f1')"
   ]
  },
  {
   "cell_type": "code",
   "execution_count": 133,
   "metadata": {},
   "outputs": [
    {
     "name": "stdout",
     "output_type": "stream",
     "text": [
      "Fitting 3 folds for each of 16 candidates, totalling 48 fits\n"
     ]
    },
    {
     "data": {
      "text/plain": [
       "GridSearchCV(cv=StratifiedKFold(n_splits=3, random_state=123, shuffle=True),\n",
       "             estimator=XGBClassifier(base_score=None, booster=None,\n",
       "                                     callbacks=None, colsample_bylevel=None,\n",
       "                                     colsample_bynode=None,\n",
       "                                     colsample_bytree=None,\n",
       "                                     early_stopping_rounds=None,\n",
       "                                     enable_categorical=False, eval_metric=None,\n",
       "                                     gamma=None, gpu_id=None, grow_policy=None,\n",
       "                                     importance_type=None,\n",
       "                                     interaction...\n",
       "                                     max_cat_to_onehot=None,\n",
       "                                     max_delta_step=None, max_depth=None,\n",
       "                                     max_leaves=None, min_child_weight=None,\n",
       "                                     missing=nan, monotone_constraints=None,\n",
       "                                     n_estimators=100, n_jobs=-1,\n",
       "                                     num_parallel_tree=None, predictor=None,\n",
       "                                     random_state=None, reg_alpha=None,\n",
       "                                     reg_lambda=None, ...),\n",
       "             n_jobs=-1,\n",
       "             param_grid={'learning_rate': [0.01, 0.1],\n",
       "                         'max_depth': [1, 2, 3, 4], 'n_estimators': [50, 100]},\n",
       "             scoring='f1', verbose=1)"
      ]
     },
     "execution_count": 133,
     "metadata": {},
     "output_type": "execute_result"
    }
   ],
   "source": [
    "xgb.fit(X_train2,y_train2)"
   ]
  },
  {
   "cell_type": "code",
   "execution_count": 134,
   "metadata": {},
   "outputs": [
    {
     "data": {
      "text/plain": [
       "{'learning_rate': 0.1, 'max_depth': 4, 'n_estimators': 100}"
      ]
     },
     "execution_count": 134,
     "metadata": {},
     "output_type": "execute_result"
    }
   ],
   "source": [
    "xgb.best_params_"
   ]
  },
  {
   "cell_type": "code",
   "execution_count": 136,
   "metadata": {},
   "outputs": [],
   "source": [
    "y_pred_xg1=xgb.predict(X_test2)"
   ]
  },
  {
   "cell_type": "code",
   "execution_count": 137,
   "metadata": {},
   "outputs": [
    {
     "name": "stdout",
     "output_type": "stream",
     "text": [
      "              precision    recall  f1-score   support\n",
      "\n",
      "           0       0.93      1.00      0.96   2679959\n",
      "           1       1.00      0.63      0.77    547541\n",
      "\n",
      "    accuracy                           0.94   3227500\n",
      "   macro avg       0.96      0.82      0.87   3227500\n",
      "weighted avg       0.94      0.94      0.93   3227500\n",
      "\n"
     ]
    }
   ],
   "source": [
    "print(classification_report(y_test, y_pred_xg1))"
   ]
  },
  {
   "cell_type": "code",
   "execution_count": 138,
   "metadata": {},
   "outputs": [],
   "source": [
    "f1_xg1 = f1_score(y_test,  y_pred_xg1)"
   ]
  },
  {
   "cell_type": "code",
   "execution_count": 139,
   "metadata": {},
   "outputs": [],
   "source": [
    "fpr, tpr, _ = roc_curve(y_test, y_pred_xg1)\n",
    "roc_auc_xg1 = auc(fpr, tpr)"
   ]
  },
  {
   "cell_type": "code",
   "execution_count": 140,
   "metadata": {},
   "outputs": [
    {
     "data": {
      "image/png": "[encoded data removed]",
      "text/plain": [
       "<Figure size 432x288 with 1 Axes>"
      ]
     },
     "metadata": {},
     "output_type": "display_data"
    }
   ],
   "source": [
    "plt.plot(fpr, tpr, color='darkorange',\n",
    "         lw=2, label='ROC curve (area = %0.2f)' % roc_auc_xg1)\n",
    "plt.plot([0, 1], [0, 1], color='navy', lw=2, linestyle='--')\n",
    "plt.xlim([0.0, 1.0])\n",
    "plt.ylim([0.0, 1.05])\n",
    "plt.xlabel('False Positive Rate')\n",
    "plt.ylabel('True Positive Rate')\n",
    "plt.title('ROC AUC')\n",
    "plt.legend(loc=\"lower right\")\n",
    "plt.show()"
   ]
  },
  {
   "cell_type": "markdown",
   "metadata": {},
   "source": [
    "#### Decision Tree"
   ]
  },
  {
   "cell_type": "code",
   "execution_count": 149,
   "metadata": {},
   "outputs": [],
   "source": [
    "modelodt = DecisionTreeClassifier(random_state=1234)"
   ]
  },
  {
   "cell_type": "code",
   "execution_count": 150,
   "metadata": {},
   "outputs": [],
   "source": [
    "pipe_dt = Pipeline([('preprocessing', preprocessor),\n",
    "                 ('modelo', modelodt)])"
   ]
  },
  {
   "cell_type": "code",
   "execution_count": 151,
   "metadata": {},
   "outputs": [
    {
     "data": {
      "text/plain": [
       "Pipeline(steps=[('preprocessing',\n",
       "                 ColumnTransformer(remainder='passthrough',\n",
       "                                   transformers=[('numeric',\n",
       "                                                  Pipeline(steps=[('scaler',\n",
       "                                                                   StandardScaler())]),\n",
       "                                                  <sklearn.compose._column_transformer.make_column_selector object at 0x0000024484889088>),\n",
       "                                                 ('cat',\n",
       "                                                  Pipeline(steps=[('onehot',\n",
       "                                                                   OneHotEncoder(handle_unknown='ignore'))]),\n",
       "                                                  <sklearn.compose._column_transformer.make_column_selector object at 0x00000244848999C8>)])),\n",
       "                ('modelo', DecisionTreeClassifier(random_state=1234))])"
      ]
     },
     "execution_count": 151,
     "metadata": {},
     "output_type": "execute_result"
    }
   ],
   "source": [
    "pipe_dt.fit(X_train, y_train)"
   ]
  },
  {
   "cell_type": "code",
   "execution_count": 152,
   "metadata": {},
   "outputs": [],
   "source": [
    "y_pred_dt=pipe_dt.predict(X_test)"
   ]
  },
  {
   "cell_type": "code",
   "execution_count": 153,
   "metadata": {},
   "outputs": [
    {
     "name": "stdout",
     "output_type": "stream",
     "text": [
      "              precision    recall  f1-score   support\n",
      "\n",
      "           0       0.94      0.99      0.96   2679959\n",
      "           1       0.91      0.71      0.80    547541\n",
      "\n",
      "    accuracy                           0.94   3227500\n",
      "   macro avg       0.93      0.85      0.88   3227500\n",
      "weighted avg       0.94      0.94      0.94   3227500\n",
      "\n"
     ]
    }
   ],
   "source": [
    "print(classification_report(y_test, y_pred_dt))"
   ]
  },
  {
   "cell_type": "code",
   "execution_count": 154,
   "metadata": {},
   "outputs": [],
   "source": [
    "f1_dt = f1_score(y_test,  y_pred_dt)"
   ]
  },
  {
   "cell_type": "code",
   "execution_count": 155,
   "metadata": {},
   "outputs": [],
   "source": [
    "fpr, tpr, _ = roc_curve(y_test, y_pred_dt)\n",
    "roc_auc_dt = auc(fpr, tpr)"
   ]
  },
  {
   "cell_type": "code",
   "execution_count": 156,
   "metadata": {},
   "outputs": [
    {
     "data": {
      "image/png": "[encoded data removed]",
      "text/plain": [
       "<Figure size 432x288 with 1 Axes>"
      ]
     },
     "metadata": {},
     "output_type": "display_data"
    }
   ],
   "source": [
    "plt.plot(fpr, tpr, color='darkorange',\n",
    "         lw=2, label='ROC curve (area = %0.2f)' % roc_auc_dt)\n",
    "plt.plot([0, 1], [0, 1], color='navy', lw=2, linestyle='--')\n",
    "plt.xlim([0.0, 1.0])\n",
    "plt.ylim([0.0, 1.05])\n",
    "plt.xlabel('False Positive Rate')\n",
    "plt.ylabel('True Positive Rate')\n",
    "plt.title('ROC AUC')\n",
    "plt.legend(loc=\"lower right\")\n",
    "plt.show()"
   ]
  },
  {
   "cell_type": "markdown",
   "metadata": {},
   "source": [
    "#### Gradient Bosting"
   ]
  },
  {
   "cell_type": "code",
   "execution_count": 157,
   "metadata": {},
   "outputs": [],
   "source": [
    "modelogb=GradientBoostingClassifier()"
   ]
  },
  {
   "cell_type": "code",
   "execution_count": 158,
   "metadata": {},
   "outputs": [],
   "source": [
    "pipe_gb = Pipeline([('preprocessing', preprocessor),\n",
    "                 ('modelo', modelogb)])"
   ]
  },
  {
   "cell_type": "code",
   "execution_count": 159,
   "metadata": {},
   "outputs": [
    {
     "data": {
      "text/plain": [
       "Pipeline(steps=[('preprocessing',\n",
       "                 ColumnTransformer(remainder='passthrough',\n",
       "                                   transformers=[('numeric',\n",
       "                                                  Pipeline(steps=[('scaler',\n",
       "                                                                   StandardScaler())]),\n",
       "                                                  <sklearn.compose._column_transformer.make_column_selector object at 0x0000024484889088>),\n",
       "                                                 ('cat',\n",
       "                                                  Pipeline(steps=[('onehot',\n",
       "                                                                   OneHotEncoder(handle_unknown='ignore'))]),\n",
       "                                                  <sklearn.compose._column_transformer.make_column_selector object at 0x00000244848999C8>)])),\n",
       "                ('modelo', GradientBoostingClassifier())])"
      ]
     },
     "execution_count": 159,
     "metadata": {},
     "output_type": "execute_result"
    }
   ],
   "source": [
    "pipe_gb.fit(X_train, y_train)"
   ]
  },
  {
   "cell_type": "code",
   "execution_count": 160,
   "metadata": {},
   "outputs": [],
   "source": [
    "y_pred_gb=pipe_gb.predict(X_test)"
   ]
  },
  {
   "cell_type": "code",
   "execution_count": 161,
   "metadata": {},
   "outputs": [
    {
     "name": "stdout",
     "output_type": "stream",
     "text": [
      "              precision    recall  f1-score   support\n",
      "\n",
      "           0       0.93      1.00      0.96   2679959\n",
      "           1       0.98      0.66      0.78    547541\n",
      "\n",
      "    accuracy                           0.94   3227500\n",
      "   macro avg       0.96      0.83      0.87   3227500\n",
      "weighted avg       0.94      0.94      0.93   3227500\n",
      "\n"
     ]
    }
   ],
   "source": [
    "print(classification_report(y_test, y_pred_gb))"
   ]
  },
  {
   "cell_type": "code",
   "execution_count": 163,
   "metadata": {},
   "outputs": [],
   "source": [
    "f1_gb = f1_score(y_test,  y_pred_gb)"
   ]
  },
  {
   "cell_type": "code",
   "execution_count": 162,
   "metadata": {},
   "outputs": [],
   "source": [
    "fpr, tpr, _ = roc_curve(y_test, y_pred_gb)\n",
    "roc_auc_gb = auc(fpr, tpr)"
   ]
  },
  {
   "cell_type": "code",
   "execution_count": 164,
   "metadata": {},
   "outputs": [
    {
     "data": {
      "image/png": "[encoded data removed]",
      "text/plain": [
       "<Figure size 432x288 with 1 Axes>"
      ]
     },
     "metadata": {},
     "output_type": "display_data"
    }
   ],
   "source": [
    "plt.plot(fpr, tpr, color='darkorange',\n",
    "         lw=2, label='ROC curve (area = %0.2f)' % roc_auc_gb)\n",
    "plt.plot([0, 1], [0, 1], color='navy', lw=2, linestyle='--')\n",
    "plt.xlim([0.0, 1.0])\n",
    "plt.ylim([0.0, 1.05])\n",
    "plt.xlabel('False Positive Rate')\n",
    "plt.ylabel('True Positive Rate')\n",
    "plt.title('ROC AUC')\n",
    "plt.legend(loc=\"lower right\")\n",
    "plt.show()"
   ]
  },
  {
   "cell_type": "markdown",
   "metadata": {},
   "source": [
    "#### Ada Boost"
   ]
  },
  {
   "cell_type": "code",
   "execution_count": 165,
   "metadata": {},
   "outputs": [],
   "source": [
    "modeloada=AdaBoostClassifier()"
   ]
  },
  {
   "cell_type": "code",
   "execution_count": 166,
   "metadata": {},
   "outputs": [],
   "source": [
    "pipe_ada = Pipeline([('preprocessing', preprocessor),\n",
    "                 ('modelo', modeloada)])"
   ]
  },
  {
   "cell_type": "code",
   "execution_count": 167,
   "metadata": {},
   "outputs": [
    {
     "data": {
      "text/plain": [
       "Pipeline(steps=[('preprocessing',\n",
       "                 ColumnTransformer(remainder='passthrough',\n",
       "                                   transformers=[('numeric',\n",
       "                                                  Pipeline(steps=[('scaler',\n",
       "                                                                   StandardScaler())]),\n",
       "                                                  <sklearn.compose._column_transformer.make_column_selector object at 0x0000024484889088>),\n",
       "                                                 ('cat',\n",
       "                                                  Pipeline(steps=[('onehot',\n",
       "                                                                   OneHotEncoder(handle_unknown='ignore'))]),\n",
       "                                                  <sklearn.compose._column_transformer.make_column_selector object at 0x00000244848999C8>)])),\n",
       "                ('modelo', AdaBoostClassifier())])"
      ]
     },
     "execution_count": 167,
     "metadata": {},
     "output_type": "execute_result"
    }
   ],
   "source": [
    "pipe_ada.fit(X_train, y_train)"
   ]
  },
  {
   "cell_type": "code",
   "execution_count": 168,
   "metadata": {},
   "outputs": [],
   "source": [
    "y_pred_ada=pipe_ada.predict(X_test)"
   ]
  },
  {
   "cell_type": "code",
   "execution_count": 169,
   "metadata": {},
   "outputs": [
    {
     "name": "stdout",
     "output_type": "stream",
     "text": [
      "              precision    recall  f1-score   support\n",
      "\n",
      "           0       0.94      0.99      0.96   2679959\n",
      "           1       0.94      0.68      0.79    547541\n",
      "\n",
      "    accuracy                           0.94   3227500\n",
      "   macro avg       0.94      0.84      0.88   3227500\n",
      "weighted avg       0.94      0.94      0.93   3227500\n",
      "\n"
     ]
    }
   ],
   "source": [
    "print(classification_report(y_test, y_pred_ada))"
   ]
  },
  {
   "cell_type": "code",
   "execution_count": 170,
   "metadata": {},
   "outputs": [],
   "source": [
    "f1_ada = f1_score(y_test,  y_pred_ada)"
   ]
  },
  {
   "cell_type": "code",
   "execution_count": 171,
   "metadata": {},
   "outputs": [],
   "source": [
    "fpr, tpr, _ = roc_curve(y_test, y_pred_ada)\n",
    "roc_auc_ada = auc(fpr, tpr)"
   ]
  },
  {
   "cell_type": "code",
   "execution_count": 172,
   "metadata": {},
   "outputs": [
    {
     "data": {
      "image/png": "[encoded data removed]",
      "text/plain": [
       "<Figure size 432x288 with 1 Axes>"
      ]
     },
     "metadata": {},
     "output_type": "display_data"
    }
   ],
   "source": [
    "plt.plot(fpr, tpr, color='darkorange',\n",
    "         lw=2, label='ROC curve (area = %0.2f)' % roc_auc_ada)\n",
    "plt.plot([0, 1], [0, 1], color='navy', lw=2, linestyle='--')\n",
    "plt.xlim([0.0, 1.0])\n",
    "plt.ylim([0.0, 1.05])\n",
    "plt.xlabel('False Positive Rate')\n",
    "plt.ylabel('True Positive Rate')\n",
    "plt.title('ROC AUC')\n",
    "plt.legend(loc=\"lower right\")\n",
    "plt.show()"
   ]
  },
  {
   "cell_type": "markdown",
   "metadata": {},
   "source": [
    "## 9. Análisis de errores "
   ]
  },
  {
   "cell_type": "markdown",
   "metadata": {},
   "source": [
    "Existen varias métricas para escoger un modelo, pero por su relevancia y análisis para este ejercicio se escogieron dos:\n",
    "#####  F1\n",
    "Accuracy se puede usar cuando las clase están balanceadeas, mientras que F1 score es una métrica mejor cuando hay clases desbalanceadas. Por esto, para este caso como tenemos un dataset desbalanceado, se usó esta métrica.\n",
    "\n",
    "\n",
    "###### Curva ROC Y área AUC: \n",
    "Esta es una de las métricas más importantes utilizadas para medir el rendimiento de un modelo de clasificación. El área bajo la curva ROC se conoce como AUC, cuanto mayor es el valor de AUC mejor es el modelo. Cuanto más lejos esté la curva ROC de la línea diagonal (y = x), mejor será el modelo.\n",
    "Así es como ROC-AUC nos permite evaluar el rendimiento de nuestro modelo, y nos proporciona un medio para seleccionar un modelo."
   ]
  },
  {
   "cell_type": "markdown",
   "metadata": {},
   "source": [
    "## 10. Selección de mejor modelo"
   ]
  },
  {
   "cell_type": "markdown",
   "metadata": {},
   "source": [
    "Se realizaron varios modelos, unos con selección de variables, ajustes de hiperparámetros y solucionando el desbalanceo presente para este ejercio. Comparando cada una de las dos métricas seleccionadas (F1 y curva ROC-AUC), el modelo seleccionado fue:Random Forest con class Weight\n",
    "\n",
    "Se analizaron las demás métricas pero estas dos serían las métricas para escoger entre todos los modelos.\n",
    "\n"
   ]
  },
  {
   "cell_type": "markdown",
   "metadata": {},
   "source": [
    "A continuación se presenta los ranking de los modelos entrenados"
   ]
  },
  {
   "cell_type": "code",
   "execution_count": 179,
   "metadata": {},
   "outputs": [],
   "source": [
    "A = [f1_rf,roc_auc_rf]\n",
    "B = [f1_rf2,roc_auc_rf2]\n",
    "C = [f1_rl1,roc_auc_rl1]\n",
    "D = [f1_cw,roc_auc_cw]\n",
    "F = [f1_xg,roc_auc_xg]\n",
    "G = [f1_xg1,roc_auc_xg1]\n",
    "H = [f1_dt,roc_auc_dt]\n",
    "I = [f1_gb,roc_auc_gb]\n",
    "J = [f1_ada,roc_auc_ada]"
   ]
  },
  {
   "cell_type": "code",
   "execution_count": 187,
   "metadata": {},
   "outputs": [
    {
     "data": {
      "text/html": [
       "<div>\n",
       "<style scoped>\n",
       "    .dataframe tbody tr th:only-of-type {\n",
       "        vertical-align: middle;\n",
       "    }\n",
       "\n",
       "    .dataframe tbody tr th {\n",
       "        vertical-align: top;\n",
       "    }\n",
       "\n",
       "    .dataframe thead th {\n",
       "        text-align: right;\n",
       "    }\n",
       "</style>\n",
       "<table border=\"1\" class=\"dataframe\">\n",
       "  <thead>\n",
       "    <tr style=\"text-align: right;\">\n",
       "      <th></th>\n",
       "      <th>F1</th>\n",
       "      <th>ROC AUC</th>\n",
       "    </tr>\n",
       "  </thead>\n",
       "  <tbody>\n",
       "    <tr>\n",
       "      <th>Random Forest con class_weight</th>\n",
       "      <td>0.7777</td>\n",
       "      <td>0.8791</td>\n",
       "    </tr>\n",
       "    <tr>\n",
       "      <th>Xgboost</th>\n",
       "      <td>0.8004</td>\n",
       "      <td>0.8494</td>\n",
       "    </tr>\n",
       "    <tr>\n",
       "      <th>Random Forest</th>\n",
       "      <td>0.7986</td>\n",
       "      <td>0.8492</td>\n",
       "    </tr>\n",
       "    <tr>\n",
       "      <th>Decision Tree</th>\n",
       "      <td>0.7972</td>\n",
       "      <td>0.8482</td>\n",
       "    </tr>\n",
       "    <tr>\n",
       "      <th>Regresión logística con Class weighting</th>\n",
       "      <td>0.7371</td>\n",
       "      <td>0.8402</td>\n",
       "    </tr>\n",
       "    <tr>\n",
       "      <th>Ada Boost</th>\n",
       "      <td>0.7902</td>\n",
       "      <td>0.8371</td>\n",
       "    </tr>\n",
       "    <tr>\n",
       "      <th>Gradient Bosting</th>\n",
       "      <td>0.7849</td>\n",
       "      <td>0.8265</td>\n",
       "    </tr>\n",
       "    <tr>\n",
       "      <th>Regresión logística select variables</th>\n",
       "      <td>0.7736</td>\n",
       "      <td>0.8154</td>\n",
       "    </tr>\n",
       "    <tr>\n",
       "      <th>Xgboost con hiperparámetros</th>\n",
       "      <td>0.7736</td>\n",
       "      <td>0.8154</td>\n",
       "    </tr>\n",
       "  </tbody>\n",
       "</table>\n",
       "</div>"
      ],
      "text/plain": [
       "                                            F1  ROC AUC\n",
       "Random Forest con class_weight          0.7777   0.8791\n",
       "Xgboost                                 0.8004   0.8494\n",
       "Random Forest                           0.7986   0.8492\n",
       "Decision Tree                           0.7972   0.8482\n",
       "Regresión logística con Class weighting 0.7371   0.8402\n",
       "Ada Boost                               0.7902   0.8371\n",
       "Gradient Bosting                        0.7849   0.8265\n",
       "Regresión logística select variables    0.7736   0.8154\n",
       "Xgboost con hiperparámetros             0.7736   0.8154"
      ]
     },
     "execution_count": 187,
     "metadata": {},
     "output_type": "execute_result"
    }
   ],
   "source": [
    "total = [A, B, C, D, F,G,H,I,J]\n",
    "index =[\"Random Forest\", \"Random Forest con class_weight\",\"Regresión logística select variables\" ,\"Regresión logística con Class weighting\",\"Xgboost\",\"Xgboost con hiperparámetros\",\"Decision Tree\",\"Gradient Bosting\",\"Ada Boost\"]\n",
    "cols = [\"F1\", \"ROC AUC\"]\n",
    "MedError= pd.DataFrame(total, columns=cols, index=index)\n",
    "MedError.sort_values(['ROC AUC','F1',],ascending=False)"
   ]
  },
  {
   "cell_type": "markdown",
   "metadata": {},
   "source": [
    "Debemos evitar el overfiting, conocido como el sobre ajuste, donde funciona excelente los datos como se entrenó el modelo pero a la hora de seleccionar otros datos, tiene un pésimo rendimiento. Se sacrifica rendimiento, pero se garantiza no caer en overfiting.\n",
    "\n",
    "Recordamos que la forma de evitar el overfiting y logrando cada vez un mejor modelo es haciendo ajuste de hiperparámetros, selección de variables y solucionando los desbalanceos de clases, realizando pruebas de validación cruzada. \n",
    "El modelo elegido aunque los demás tenian un ROC AUC parecidos, se analizó que la curva que mejor se ajustaba fue el modelo elegido."
   ]
  },
  {
   "cell_type": "markdown",
   "metadata": {},
   "source": [
    "## 11. Arquitectura de proceso"
   ]
  },
  {
   "cell_type": "markdown",
   "metadata": {},
   "source": [
    "La arquitectura del proceso  de entrenamiento:\n",
    "    \n",
    "    1. Captura de información directamente desde aws usando spark.\n",
    "    2. Agrupamientos para seleccionar e idenficar los fraccionamientos transaccionales\n",
    "    3. Realizar depuración, valores atípicos y molimiento de datos.\n",
    "    4. división en datos de entrenamiento y test 70-20.\n",
    "    5. Quitamos el desbalanceo de dos formas diferentes: con SMOTEC Y oversampling\n",
    "    6. Gracias a el uso de pipline se tiene un proceso automatizado que consta de:\n",
    "        * Preprocesamiento donde se hace la escalada de variables\n",
    "        * Preprocesamiento para las variables categóricas para hacer el OneHotEncoder\n",
    "        * Entrenamiento del modelo respectivo.\n",
    "        * Ajuste de hiperparámetros.\n",
    "    7. Con la muestra de testeo se sacan las métricas mas importantes para saber el rendimiento del modelo.\n",
    "    8. Se selecciona el mejor modelo.\n",
    "    9. Paso a producción.\n",
    "    "
   ]
  },
  {
   "cell_type": "markdown",
   "metadata": {},
   "source": [
    "La arquitectura del proceso ya en producción quedaría de la siguiente forma:\n",
    "    1. Recolección de información en tiempo real, un día vecido.\n",
    "    2. Realizar la predicción con el modelo seleccionado anteriormente.\n",
    "    3. Entregar resultados.\n",
    "    4. Se ingesta de nuevo la data y se hace un nuevo la arquitectura de entrenamiento para ir ajustando de nuevo el modelo."
   ]
  },
  {
   "cell_type": "markdown",
   "metadata": {},
   "source": [
    "Con esta arquitectura tendríamos un proceso que se podría ejecutar la predicción al cabo de 24 horas, donde se podría ir reentrenando, asegurando la captura de los fraccionamientos transaccionales."
   ]
  },
  {
   "cell_type": "markdown",
   "metadata": {},
   "source": [
    "## 12. Trabajo Futuro"
   ]
  },
  {
   "cell_type": "markdown",
   "metadata": {},
   "source": [
    "* Para poder cargar todos los datos, se sugiera hacer la carga y el paso de modelo a spark. Spark ha establecido récords mundiales en cuanto a velocidades de procesamiento se refiere. Se pasaría toda la arquitectura y procesamiento a dicha herramienta. Además se podría explorar con el nuevo amazon SageMaker studio Lab para mejorar el rendimiento de la corrida de códigos.\n",
    "\n",
    "\n",
    "* Trabajo próximo sería pensar un un forecast pero utilizando ya series de tiempo para pronosticar en promedio cuantos fraccionamientos transaccionales se podrían tener en un día sin haber corrido y los corresponsales mas prospensos a dicho fraude.\n",
    "\n",
    "\n",
    "* Visualización donde se pueda identificar en dashboard los posibles fraccionamientos en tiempo real para la toma de decisiones, con métricas de procentaje.\n",
    "\n"
   ]
  }
 ],
 "metadata": {
  "kernelspec": {
   "display_name": "Python 3",
   "language": "python",
   "name": "python3"
  },
  "language_info": {
   "codemirror_mode": {
    "name": "ipython",
    "version": 3
   },
   "file_extension": ".py",
   "mimetype": "text/x-python",
   "name": "python",
   "nbconvert_exporter": "python",
   "pygments_lexer": "ipython3",
   "version": "3.7.6"
  }
 },
 "nbformat": 4,
 "nbformat_minor": 4
}
